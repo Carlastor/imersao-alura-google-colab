{
  "nbformat": 4,
  "nbformat_minor": 0,
  "metadata": {
    "colab": {
      "provenance": [],
      "authorship_tag": "ABX9TyNDH+O+HOeBBKhahTLg32ZX",
      "include_colab_link": true
    },
    "kernelspec": {
      "name": "python3",
      "display_name": "Python 3"
    },
    "language_info": {
      "name": "python"
    }
  },
  "cells": [
    {
      "cell_type": "markdown",
      "metadata": {
        "id": "view-in-github",
        "colab_type": "text"
      },
      "source": [
        "<a href=\"https://colab.research.google.com/github/Carlastor/imersao-alura-google-colab/blob/main/Imers%C3%A3o_Alura_Dados_com_Python_(4_aulas).ipynb\" target=\"_parent\"><img src=\"https://colab.research.google.com/assets/colab-badge.svg\" alt=\"Open In Colab\"/></a>"
      ]
    },
    {
      "cell_type": "markdown",
      "source": [
        "## ***Aula 01 - Explore Dados com Pandas***"
      ],
      "metadata": {
        "id": "DtEf-ZesS71D"
      }
    },
    {
      "cell_type": "code",
      "execution_count": null,
      "metadata": {
        "id": "YI99ycRk-Aba"
      },
      "outputs": [],
      "source": [
        "import pandas as pd\n"
      ]
    },
    {
      "cell_type": "code",
      "source": [
        "#Importando a biblioteca\n",
        "\n",
        "df = pd.read_csv(\"https://raw.githubusercontent.com/guilhermeonrails/data-jobs/refs/heads/main/salaries.csv\")"
      ],
      "metadata": {
        "id": "uofNGC2I_LCx"
      },
      "execution_count": null,
      "outputs": []
    },
    {
      "cell_type": "code",
      "source": [
        "#Primeira visualização da base de dados\n",
        "\n",
        "df.head()"
      ],
      "metadata": {
        "id": "Qq7ZsO5BESYJ"
      },
      "execution_count": null,
      "outputs": []
    },
    {
      "cell_type": "code",
      "source": [
        "df.head(10)"
      ],
      "metadata": {
        "id": "ggpbC7HdE9wh"
      },
      "execution_count": null,
      "outputs": []
    },
    {
      "cell_type": "code",
      "source": [
        "# Consultando informações da base de dados\n",
        "\n",
        "df.info()"
      ],
      "metadata": {
        "id": "MIACH9FmFMb_"
      },
      "execution_count": null,
      "outputs": []
    },
    {
      "cell_type": "code",
      "source": [
        "# Consultando descrição das informações da base\n",
        "\n",
        "df.describe()"
      ],
      "metadata": {
        "id": "i6z5X3tEGfjF"
      },
      "execution_count": null,
      "outputs": []
    },
    {
      "cell_type": "code",
      "source": [
        "# Exibir o tamanho da base\n",
        "\n",
        "df.shape"
      ],
      "metadata": {
        "id": "DPE_mFG7HniJ"
      },
      "execution_count": null,
      "outputs": []
    },
    {
      "cell_type": "code",
      "source": [
        "# Exibir o tamanho da base de forma mais didática\n",
        "\n",
        "linhas, colunas = df.shape[0], df.shape[1]\n",
        "print(\"Linhas: \", linhas)\n",
        "print(\"Colunas: \", colunas)"
      ],
      "metadata": {
        "id": "GaNDw1dxIc-m"
      },
      "execution_count": null,
      "outputs": []
    },
    {
      "cell_type": "code",
      "source": [
        "# consultar os nomes das colunas\n",
        "\n",
        "df.columns"
      ],
      "metadata": {
        "id": "iLwNtv_UJ-Xo"
      },
      "execution_count": null,
      "outputs": []
    },
    {
      "cell_type": "code",
      "source": [
        "# Tradução dos nomes das colunas com IA\n",
        "\n",
        "df = df.rename(columns={\n",
        "    'work_year': 'ano',\n",
        "    'experience_level': 'senioridade',\n",
        "    'employment_type': 'contrato',\n",
        "    'job_title': 'cargo',\n",
        "    'salary': 'salario',\n",
        "    'salary_currency': 'moeda',\n",
        "    'salary_in_usd': 'usd',\n",
        "    'employee_residence': 'residencia',\n",
        "    'remote_ratio': 'remoto',\n",
        "    'company_location': 'empresa',\n",
        "    'company_size': 'tamanho_empresa'\n",
        "})\n",
        "\n",
        "print(\"Colunas traduzidas:\")\n",
        "print(df.columns)"
      ],
      "metadata": {
        "id": "rlNY2gG8LoP3"
      },
      "execution_count": null,
      "outputs": []
    },
    {
      "cell_type": "code",
      "source": [
        "# Analisando a primeira coluna (nível de senioridade)\n",
        "df.head()\n",
        "df[\"senioridade\"].value_counts()"
      ],
      "metadata": {
        "id": "0egGOAi1P4rB"
      },
      "execution_count": null,
      "outputs": []
    },
    {
      "cell_type": "code",
      "source": [
        "# analisando a segunda coluna\n",
        "\n",
        "df[\"contrato\"].value_counts()"
      ],
      "metadata": {
        "id": "2P1s4OG0QMc3"
      },
      "execution_count": null,
      "outputs": []
    },
    {
      "cell_type": "code",
      "source": [
        "df[\"remoto\"].value_counts()"
      ],
      "metadata": {
        "id": "StfhqeRdRItZ"
      },
      "execution_count": null,
      "outputs": []
    },
    {
      "cell_type": "code",
      "source": [
        "df[\"tamanho_empresa\"].value_counts()"
      ],
      "metadata": {
        "id": "T_KxFTBoVc__",
        "colab": {
          "base_uri": "https://localhost:8080/",
          "height": 210
        },
        "outputId": "b6d3d125-5cc4-4d12-f485-0f216df45388",
        "collapsed": true
      },
      "execution_count": 124,
      "outputs": [
        {
          "output_type": "execute_result",
          "data": {
            "text/plain": [
              "tamanho_empresa\n",
              "Média      129561\n",
              "Grande       3574\n",
              "Pequena       214\n",
              "Name: count, dtype: int64"
            ],
            "text/html": [
              "<div>\n",
              "<style scoped>\n",
              "    .dataframe tbody tr th:only-of-type {\n",
              "        vertical-align: middle;\n",
              "    }\n",
              "\n",
              "    .dataframe tbody tr th {\n",
              "        vertical-align: top;\n",
              "    }\n",
              "\n",
              "    .dataframe thead th {\n",
              "        text-align: right;\n",
              "    }\n",
              "</style>\n",
              "<table border=\"1\" class=\"dataframe\">\n",
              "  <thead>\n",
              "    <tr style=\"text-align: right;\">\n",
              "      <th></th>\n",
              "      <th>count</th>\n",
              "    </tr>\n",
              "    <tr>\n",
              "      <th>tamanho_empresa</th>\n",
              "      <th></th>\n",
              "    </tr>\n",
              "  </thead>\n",
              "  <tbody>\n",
              "    <tr>\n",
              "      <th>Média</th>\n",
              "      <td>129561</td>\n",
              "    </tr>\n",
              "    <tr>\n",
              "      <th>Grande</th>\n",
              "      <td>3574</td>\n",
              "    </tr>\n",
              "    <tr>\n",
              "      <th>Pequena</th>\n",
              "      <td>214</td>\n",
              "    </tr>\n",
              "  </tbody>\n",
              "</table>\n",
              "</div><br><label><b>dtype:</b> int64</label>"
            ]
          },
          "metadata": {},
          "execution_count": 124
        }
      ]
    },
    {
      "cell_type": "code",
      "source": [
        "df['senioridade'] = df['senioridade'].replace({\n",
        "    'SE': 'Senior',\n",
        "    'MI': 'Pleno',\n",
        "    'EN': 'Junior',\n",
        "    'EX': 'Executivo'\n",
        "})\n",
        "\n",
        "print(\"Categorias da coluna 'senioridade' traduzidas:\")\n",
        "print(df['senioridade'].value_counts())"
      ],
      "metadata": {
        "id": "qu1QCAN0WPYw",
        "colab": {
          "base_uri": "https://localhost:8080/",
          "height": 0
        },
        "outputId": "88045967-3378-490c-ff64-7582f069bae2"
      },
      "execution_count": 125,
      "outputs": [
        {
          "output_type": "stream",
          "name": "stdout",
          "text": [
            "Categorias da coluna 'senioridade' traduzidas:\n",
            "senioridade\n",
            "Senior       77241\n",
            "Pleno        40465\n",
            "Junior       12443\n",
            "Executivo     3200\n",
            "Name: count, dtype: int64\n"
          ]
        }
      ]
    },
    {
      "cell_type": "code",
      "metadata": {
        "id": "7011c587"
      },
      "source": [
        "df['remoto'] = df['remoto'].replace({\n",
        "    100: 'Remoto',\n",
        "    50: 'Híbrido',\n",
        "    0: 'Presencial'\n",
        "})\n",
        "\n",
        "print(\"Categorias da coluna 'remoto' traduzidas:\")\n",
        "print(df['remoto'].value_counts())"
      ],
      "execution_count": null,
      "outputs": []
    },
    {
      "cell_type": "code",
      "source": [
        "df.head"
      ],
      "metadata": {
        "id": "YMFGGEtQ7_g5"
      },
      "execution_count": null,
      "outputs": []
    },
    {
      "cell_type": "code",
      "source": [
        "df.head()"
      ],
      "metadata": {
        "id": "aHEZS7MY8BI2"
      },
      "execution_count": null,
      "outputs": []
    },
    {
      "cell_type": "code",
      "source": [
        "df.columns"
      ],
      "metadata": {
        "id": "zVaWezl38J92"
      },
      "execution_count": null,
      "outputs": []
    },
    {
      "cell_type": "code",
      "source": [
        "# Re-edição dos nomes das colunas e categorias pós-pausa\n",
        "\n",
        "df = df.rename(columns={\n",
        "    'work_year': 'ano',\n",
        "    'experience_level': 'senioridade',\n",
        "    'employment_type': 'contrato',\n",
        "    'job_title': 'cargo',\n",
        "    'salary': 'salario',\n",
        "    'salary_currency': 'moeda',\n",
        "    'salary_in_usd': 'usd',\n",
        "    'employee_residence': 'residencia',\n",
        "    'remote_ratio': 'remoto',\n",
        "    'company_location': 'empresa',\n",
        "    'company_size': 'tamanho_empresa'\n",
        "})\n",
        "\n",
        "print(\"Colunas traduzidas:\")\n",
        "print(df.columns)"
      ],
      "metadata": {
        "id": "2xASRdv58aAu"
      },
      "execution_count": null,
      "outputs": []
    },
    {
      "cell_type": "code",
      "source": [
        "df['senioridade'] = df['senioridade'].replace({\n",
        "    'SE': 'Senior',\n",
        "    'MI': 'Pleno',\n",
        "    'EN': 'Junior',\n",
        "    'EX': 'Executivo'\n",
        "})\n",
        "\n",
        "print(\"Categorias da coluna 'senioridade' traduzidas:\")\n",
        "print(df['senioridade'].value_counts())"
      ],
      "metadata": {
        "id": "QIn8wtvc_FRl"
      },
      "execution_count": null,
      "outputs": []
    },
    {
      "cell_type": "code",
      "metadata": {
        "id": "479aed1f"
      },
      "source": [
        "df['contrato'] = df['contrato'].replace({\n",
        "    'FT': 'Tempo Integral',\n",
        "    'CT': 'Contrato',\n",
        "    'PT': 'Tempo Parcial',\n",
        "    'FL': 'Freelancer'\n",
        "})\n",
        "\n",
        "print(\"Categorias da coluna 'contrato' traduzidas:\")\n",
        "display(df['contrato'].value_counts())"
      ],
      "execution_count": null,
      "outputs": []
    },
    {
      "cell_type": "code",
      "metadata": {
        "id": "9be6c743"
      },
      "source": [
        "df['remoto'] = df['remoto'].replace({\n",
        "    100: 'Remoto',\n",
        "    50: 'Híbrido',\n",
        "    0: 'Presencial'\n",
        "})\n",
        "\n",
        "print(\"Categorias da coluna 'remoto' traduzidas:\")\n",
        "display(df['remoto'].value_counts())"
      ],
      "execution_count": null,
      "outputs": []
    },
    {
      "cell_type": "code",
      "metadata": {
        "id": "f5d067f1"
      },
      "source": [
        "df['tamanho_empresa'] = df['tamanho_empresa'].replace({\n",
        "    'M': 'Média',\n",
        "    'L': 'Grande',\n",
        "    'S': 'Pequena'\n",
        "})\n",
        "\n",
        "print(\"Categorias da coluna 'tamanho_empresa' traduzidas:\")\n",
        "display(df['tamanho_empresa'].value_counts())"
      ],
      "execution_count": null,
      "outputs": []
    },
    {
      "cell_type": "code",
      "source": [
        "df.head()"
      ],
      "metadata": {
        "id": "0mAH2apMAZx-"
      },
      "execution_count": null,
      "outputs": []
    },
    {
      "cell_type": "code",
      "source": [
        "df.describe(include=\"object\")"
      ],
      "metadata": {
        "id": "qGKH8lCLAbsH"
      },
      "execution_count": null,
      "outputs": []
    },
    {
      "cell_type": "code",
      "source": [
        "df.describe()"
      ],
      "metadata": {
        "id": "ObUABjiICPbU"
      },
      "execution_count": null,
      "outputs": []
    },
    {
      "cell_type": "markdown",
      "source": [
        "## ***Aula 02 - Aprenda a Limpar e Preparar os Dados***"
      ],
      "metadata": {
        "id": "ByWi9vVNTVXM"
      }
    },
    {
      "cell_type": "code",
      "source": [
        "df.isnull()"
      ],
      "metadata": {
        "id": "H0hw3ulLF4w7"
      },
      "execution_count": null,
      "outputs": []
    },
    {
      "cell_type": "code",
      "source": [],
      "metadata": {
        "id": "SYDZW6ZXT6K0"
      },
      "execution_count": null,
      "outputs": []
    },
    {
      "cell_type": "code",
      "metadata": {
        "id": "e5efe2c4"
      },
      "source": [
        "import pandas as pd\n",
        "\n",
        "df = pd.read_csv(\"https://raw.githubusercontent.com/guilhermeonrails/data-jobs/refs/heads/main/salaries.csv\")\n",
        "\n",
        "df = df.rename(columns={\n",
        "    'work_year': 'ano',\n",
        "    'experience_level': 'senioridade',\n",
        "    'employment_type': 'contrato',\n",
        "    'job_title': 'cargo',\n",
        "    'salary': 'salario',\n",
        "    'salary_currency': 'moeda',\n",
        "    'salary_in_usd': 'usd',\n",
        "    'employee_residence': 'residencia',\n",
        "    'remote_ratio': 'remoto',\n",
        "    'company_location': 'empresa',\n",
        "    'company_size': 'tamanho_empresa'\n",
        "})\n",
        "\n",
        "df['senioridade'] = df['senioridade'].replace({\n",
        "    'SE': 'Senior',\n",
        "    'MI': 'Pleno',\n",
        "    'EN': 'Junior',\n",
        "    'EX': 'Executivo'\n",
        "})\n",
        "\n",
        "df['contrato'] = df['contrato'].replace({\n",
        "    'FT': 'Tempo Integral',\n",
        "    'CT': 'Contrato',\n",
        "    'PT': 'Tempo Parcial',\n",
        "    'FL': 'Freelancer'\n",
        "})\n",
        "\n",
        "df['remoto'] = df['remoto'].replace({\n",
        "    100: 'Remoto',\n",
        "    50: 'Híbrido',\n",
        "    0: 'Presencial'\n",
        "})\n",
        "\n",
        "df['tamanho_empresa'] = df['tamanho_empresa'].replace({\n",
        "    'M': 'Média',\n",
        "    'L': 'Grande',\n",
        "    'S': 'Pequena'\n",
        "})\n",
        "\n",
        "print(\"DataFrame reloaded and transformations applied.\")\n",
        "display(df.head())"
      ],
      "execution_count": null,
      "outputs": []
    },
    {
      "cell_type": "code",
      "source": [
        "df.isnull()"
      ],
      "metadata": {
        "id": "8nGST7tVVfW4"
      },
      "execution_count": null,
      "outputs": []
    },
    {
      "cell_type": "code",
      "source": [
        "# Contar quantidade de dados nulos\n",
        "\n",
        "df.isnull().sum()"
      ],
      "metadata": {
        "id": "E65nq1W3VgyO"
      },
      "execution_count": null,
      "outputs": []
    },
    {
      "cell_type": "code",
      "source": [
        "# Consultar quais anos existem nessa base\n",
        "\n",
        "df[\"ano\"].unique()"
      ],
      "metadata": {
        "id": "H0Q4E-2VW9HD"
      },
      "execution_count": null,
      "outputs": []
    },
    {
      "cell_type": "code",
      "source": [
        "# Exibir linhas faltantes\n",
        "\n",
        "df[df.isnull().any(axis=1)]"
      ],
      "metadata": {
        "id": "IwzGPzigXvDl"
      },
      "execution_count": null,
      "outputs": []
    },
    {
      "cell_type": "code",
      "source": [],
      "metadata": {
        "id": "rxqbhGf1YlTY"
      },
      "execution_count": null,
      "outputs": []
    },
    {
      "cell_type": "code",
      "metadata": {
        "id": "d250dcd1"
      },
      "source": [
        "print(\"Number of null values per column:\")\n",
        "display(df.isnull().sum())\n",
        "\n",
        "print(\"\\nColumns with at least one null value:\")\n",
        "display(df.isnull().any(axis=0))"
      ],
      "execution_count": null,
      "outputs": []
    },
    {
      "cell_type": "code",
      "source": [
        "# Lidando com dados nulos - Colocar as informações faltantes\n",
        "\n",
        "# Criando o DataFrame\n",
        "\n",
        "import numpy as np\n",
        "\n",
        "\n",
        "df_salarios = pd.DataFrame({\n",
        "    \"nome\": ['Ana', 'Bruno', 'Carlos', 'Daniele', 'Val'],\n",
        "    'salario': [4000, np.nan, 5000, np.nan, 100000]\n",
        "})\n",
        "\n",
        "\n",
        "# Calcula a média, substitui os nulos pela média, e arredonda os valores\n",
        "\n",
        "df_salarios['salario_media'] = df_salarios['salario'].fillna(df_salarios['salario'].mean().round(2))\n",
        "\n",
        "\n",
        "'''Calcula a mediana e substitui os nulos pela mediana'''\n",
        "\n",
        "df_salarios['salario_mediana'] = df_salarios['salario'].fillna(df_salarios['salario'].median())\n",
        "\n",
        "\n",
        "# Exibindo o resultado\n",
        "\n",
        "df_salarios"
      ],
      "metadata": {
        "id": "EyD9UdNY3aKQ"
      },
      "execution_count": null,
      "outputs": []
    },
    {
      "cell_type": "code",
      "source": [
        "# Substituir nulos com ffill e bfill\n",
        "\n",
        "# Criando o df\n",
        "df_temperaturas = pd.DataFrame({\n",
        "    \"Dia\": [\"Segunda\", \"Terça\", \"Quarta\", \"Quinta\", \"Sexta\"],\n",
        "    'Temperatura': [30, np.nan, np.nan, 28, 27]\n",
        "})\n",
        "\n",
        "# Preenchendo com ffill\n",
        "df_temperaturas['preenchido_ffill'] = df_temperaturas['Temperatura'].ffill()\n",
        "df_temperaturas"
      ],
      "metadata": {
        "id": "58pbXO63Al90"
      },
      "execution_count": null,
      "outputs": []
    },
    {
      "cell_type": "code",
      "source": [
        "# Preenchendo com bfill\n",
        "df_temperaturas['preenchido_bfill'] = df_temperaturas['Temperatura'].bfill()\n",
        "df_temperaturas"
      ],
      "metadata": {
        "id": "ZzK79TAHLW_7"
      },
      "execution_count": null,
      "outputs": []
    },
    {
      "cell_type": "code",
      "source": [
        "# Substituir nulos com fillna\n",
        "\n",
        "# Criando o df\n",
        "df_cidades = pd.DataFrame({\n",
        "    \"nome\": ['Ana', 'Bruno', 'Carlos', 'Daniele', 'Val'],\n",
        "    'cidade': ['São Paulo', np.nan, 'Curitiba', np.nan, 'Belém']\n",
        "})\n",
        "\n",
        "# Preenchimento com fillna\n",
        "df_cidades['cidade_preenchida'] = df_cidades['cidade'].fillna('Não informado')"
      ],
      "metadata": {
        "id": "DhIZmz-LNnRN"
      },
      "execution_count": null,
      "outputs": []
    },
    {
      "cell_type": "code",
      "source": [
        "df_cidades"
      ],
      "metadata": {
        "id": "LeVrJ1UXPXtt"
      },
      "execution_count": null,
      "outputs": []
    },
    {
      "cell_type": "code",
      "source": [
        "#\tExcluir nulos\n",
        "\n",
        "df_limpo = df.dropna()"
      ],
      "metadata": {
        "id": "S8E_3hlHPb4p"
      },
      "execution_count": null,
      "outputs": []
    },
    {
      "cell_type": "code",
      "source": [
        "# Consultar se a limpeza deu certo\n",
        "\n",
        "df_limpo.isnull().sum()"
      ],
      "metadata": {
        "colab": {
          "base_uri": "https://localhost:8080/",
          "height": 429
        },
        "id": "lkIvbhciTPW9",
        "outputId": "16e868ff-681f-4440-ef1a-ae61a02342e7",
        "collapsed": true
      },
      "execution_count": 126,
      "outputs": [
        {
          "output_type": "execute_result",
          "data": {
            "text/plain": [
              "ano                0\n",
              "senioridade        0\n",
              "contrato           0\n",
              "cargo              0\n",
              "salario            0\n",
              "moeda              0\n",
              "usd                0\n",
              "residencia         0\n",
              "remoto             0\n",
              "empresa            0\n",
              "tamanho_empresa    0\n",
              "dtype: int64"
            ],
            "text/html": [
              "<div>\n",
              "<style scoped>\n",
              "    .dataframe tbody tr th:only-of-type {\n",
              "        vertical-align: middle;\n",
              "    }\n",
              "\n",
              "    .dataframe tbody tr th {\n",
              "        vertical-align: top;\n",
              "    }\n",
              "\n",
              "    .dataframe thead th {\n",
              "        text-align: right;\n",
              "    }\n",
              "</style>\n",
              "<table border=\"1\" class=\"dataframe\">\n",
              "  <thead>\n",
              "    <tr style=\"text-align: right;\">\n",
              "      <th></th>\n",
              "      <th>0</th>\n",
              "    </tr>\n",
              "  </thead>\n",
              "  <tbody>\n",
              "    <tr>\n",
              "      <th>ano</th>\n",
              "      <td>0</td>\n",
              "    </tr>\n",
              "    <tr>\n",
              "      <th>senioridade</th>\n",
              "      <td>0</td>\n",
              "    </tr>\n",
              "    <tr>\n",
              "      <th>contrato</th>\n",
              "      <td>0</td>\n",
              "    </tr>\n",
              "    <tr>\n",
              "      <th>cargo</th>\n",
              "      <td>0</td>\n",
              "    </tr>\n",
              "    <tr>\n",
              "      <th>salario</th>\n",
              "      <td>0</td>\n",
              "    </tr>\n",
              "    <tr>\n",
              "      <th>moeda</th>\n",
              "      <td>0</td>\n",
              "    </tr>\n",
              "    <tr>\n",
              "      <th>usd</th>\n",
              "      <td>0</td>\n",
              "    </tr>\n",
              "    <tr>\n",
              "      <th>residencia</th>\n",
              "      <td>0</td>\n",
              "    </tr>\n",
              "    <tr>\n",
              "      <th>remoto</th>\n",
              "      <td>0</td>\n",
              "    </tr>\n",
              "    <tr>\n",
              "      <th>empresa</th>\n",
              "      <td>0</td>\n",
              "    </tr>\n",
              "    <tr>\n",
              "      <th>tamanho_empresa</th>\n",
              "      <td>0</td>\n",
              "    </tr>\n",
              "  </tbody>\n",
              "</table>\n",
              "</div><br><label><b>dtype:</b> int64</label>"
            ]
          },
          "metadata": {},
          "execution_count": 126
        }
      ]
    },
    {
      "cell_type": "code",
      "source": [
        "df_limpo.head()"
      ],
      "metadata": {
        "id": "lusQEev9TXHY"
      },
      "execution_count": null,
      "outputs": []
    },
    {
      "cell_type": "code",
      "source": [
        "df_limpo.info()"
      ],
      "metadata": {
        "colab": {
          "base_uri": "https://localhost:8080/",
          "height": 0
        },
        "id": "XJB6SLECUvHT",
        "outputId": "beeee97d-194f-495a-9cd4-86d7af7d9487"
      },
      "execution_count": 127,
      "outputs": [
        {
          "output_type": "stream",
          "name": "stdout",
          "text": [
            "<class 'pandas.core.frame.DataFrame'>\n",
            "Index: 133339 entries, 0 to 133348\n",
            "Data columns (total 11 columns):\n",
            " #   Column           Non-Null Count   Dtype \n",
            "---  ------           --------------   ----- \n",
            " 0   ano              133339 non-null  int64 \n",
            " 1   senioridade      133339 non-null  object\n",
            " 2   contrato         133339 non-null  object\n",
            " 3   cargo            133339 non-null  object\n",
            " 4   salario          133339 non-null  int64 \n",
            " 5   moeda            133339 non-null  object\n",
            " 6   usd              133339 non-null  int64 \n",
            " 7   residencia       133339 non-null  object\n",
            " 8   remoto           133339 non-null  object\n",
            " 9   empresa          133339 non-null  object\n",
            " 10  tamanho_empresa  133339 non-null  object\n",
            "dtypes: int64(3), object(8)\n",
            "memory usage: 12.2+ MB\n"
          ]
        }
      ]
    },
    {
      "cell_type": "code",
      "source": [
        "# Alterar o tipo do registro\n",
        "\n",
        "df_limpo = df_limpo.assign(ano = df_limpo['ano'].astype('int64'))"
      ],
      "metadata": {
        "id": "m0MGoKEGVBHJ"
      },
      "execution_count": null,
      "outputs": []
    },
    {
      "cell_type": "code",
      "source": [
        "df_limpo"
      ],
      "metadata": {
        "id": "YRR19YMWW5Ly"
      },
      "execution_count": null,
      "outputs": []
    },
    {
      "cell_type": "code",
      "source": [
        "df_limpo.info()"
      ],
      "metadata": {
        "id": "CP0ys6Z3XD9s"
      },
      "execution_count": null,
      "outputs": []
    },
    {
      "cell_type": "markdown",
      "source": [
        "## ***Aula 03 - Crie Gráficos e Conte Histórias com Python***\n",
        "## *Visualização de Dados*\n",
        "\n",
        " Aprendendo a criar gráficos para explorar e comunicar informações presentes nos dados. Histogramas, boxplots, barras, etc."
      ],
      "metadata": {
        "id": "Uz0vvdbkv6EP"
      }
    },
    {
      "cell_type": "code",
      "source": [
        "# Revendo como está a tabela\n",
        "\n",
        "df_limpo.head()"
      ],
      "metadata": {
        "id": "y37GyNxiwUn2"
      },
      "execution_count": null,
      "outputs": []
    },
    {
      "cell_type": "code",
      "source": [
        "# 1º teste: Criar gráfico com Pandas\n",
        "\n",
        "df_limpo['senioridade'].value_counts().plot(kind='bar', title='Distribuição de senioridade')"
      ],
      "metadata": {
        "id": "JuYPSllf3mKz"
      },
      "execution_count": null,
      "outputs": []
    },
    {
      "cell_type": "code",
      "source": [
        "# Importando Seaborn\n",
        "\n",
        "import seaborn as sns\n"
      ],
      "metadata": {
        "id": "M8rZufo85KvF"
      },
      "execution_count": null,
      "outputs": []
    },
    {
      "cell_type": "code",
      "source": [
        "# Utilizando Seaborn\n",
        "\n",
        "sns.barplot(data=df_limpo, x='senioridade', y='usd')"
      ],
      "metadata": {
        "id": "7fUeRoGM8wZ4"
      },
      "execution_count": null,
      "outputs": []
    },
    {
      "cell_type": "code",
      "source": [
        "# Chamando Matplotlib para usar junto com o Seaborn\n",
        "\n",
        "import matplotlib.pyplot as plt"
      ],
      "metadata": {
        "id": "JbmJQ-Yo96BU"
      },
      "execution_count": null,
      "outputs": []
    },
    {
      "cell_type": "code",
      "source": [
        "# Editando o gráfico com Matplotlib\n",
        "\n",
        "plt.figure(figsize=(8, 5))\n",
        "sns.barplot(data=df_limpo, x='senioridade', y='usd')\n",
        "plt.title('Salário médio por nível de senioridade')\n",
        "plt.xlabel('Senioridade')\n",
        "plt.ylabel('Salário médio anual (USD)')\n"
      ],
      "metadata": {
        "id": "EAyGGbMvAh1N"
      },
      "execution_count": null,
      "outputs": []
    },
    {
      "cell_type": "code",
      "source": [
        "# Editando o gráfico com Matplotlib (sem textinho)\n",
        "\n",
        "plt.figure(figsize=(8, 5))\n",
        "sns.barplot(data=df_limpo, x='senioridade', y='usd')\n",
        "plt.title('Salário médio por nível de senioridade')\n",
        "plt.xlabel('Senioridade')\n",
        "plt.ylabel('Salário médio anual (USD)')\n",
        "plt.show()"
      ],
      "metadata": {
        "id": "1voY_26TBlTx"
      },
      "execution_count": null,
      "outputs": []
    },
    {
      "cell_type": "code",
      "source": [
        "# Editando o gráfico\n",
        "\n",
        "df_limpo.groupby('senioridade')['usd'].mean().sort_values(ascending=False)"
      ],
      "metadata": {
        "id": "XHheKU_eFYP4"
      },
      "execution_count": null,
      "outputs": []
    },
    {
      "cell_type": "code",
      "source": [
        "# Criando variável do Group By\n",
        "\n",
        "ordem = df_limpo.groupby('senioridade')['usd'].mean().sort_values(ascending=False).index\n",
        "\n",
        "# para exibir as informações\n",
        "ordem"
      ],
      "metadata": {
        "id": "4CwbtNKeG-Tw"
      },
      "execution_count": null,
      "outputs": []
    },
    {
      "cell_type": "code",
      "source": [
        "# Utilizando a variável ordem no código do gráfico\n",
        "\n",
        "plt.figure(figsize=(8, 5))\n",
        "sns.barplot(data=df_limpo, x='senioridade', y='usd', order=ordem)\n",
        "plt.title('Salário médio por nível de senioridade')\n",
        "plt.xlabel('Senioridade')\n",
        "plt.ylabel('Salário médio anual (USD)')\n",
        "plt.show()"
      ],
      "metadata": {
        "id": "2kxUDqZyI15u"
      },
      "execution_count": null,
      "outputs": []
    },
    {
      "cell_type": "code",
      "source": [
        "# 2ª análise – Distribuição salarial\n",
        "\n",
        "plt.figure(figsize=(8, 4))\n",
        "sns.histplot(data=df_limpo['usd'], bins=50, kde=True)\n",
        "plt.title('Distribuição dos salários anuais')\n",
        "plt.xlabel('Salário em USD')\n",
        "plt.ylabel('Frequencia')\n",
        "plt.show()"
      ],
      "metadata": {
        "id": "A_-trUCSKYTc"
      },
      "execution_count": null,
      "outputs": []
    },
    {
      "cell_type": "code",
      "source": [
        "# Mudando um pouco os parâmetros para testar\n",
        "\n",
        "#1\n",
        "plt.figure(figsize=(8,2))\n",
        "sns.histplot(data=df_limpo['usd'], bins=50, kde=True)\n",
        "plt.title('Distribuição dos salários anuais')\n",
        "plt.xlabel('Salário em USD')\n",
        "plt.ylabel('Frequencia')\n",
        "plt.show()"
      ],
      "metadata": {
        "id": "_H-fN6lkMNVN"
      },
      "execution_count": null,
      "outputs": []
    },
    {
      "cell_type": "code",
      "source": [
        "#2\n",
        "plt.figure(figsize=(10,5))\n",
        "sns.histplot(data=df_limpo['usd'], bins=50, kde=True)\n",
        "plt.title('Distribuição dos salários anuais')\n",
        "plt.xlabel('Salário em USD')\n",
        "plt.ylabel('Frequencia')\n",
        "plt.show()"
      ],
      "metadata": {
        "id": "AoWyWHU_3i2Z"
      },
      "execution_count": null,
      "outputs": []
    },
    {
      "cell_type": "code",
      "source": [
        "#3\n",
        "plt.figure(figsize=(10,5))\n",
        "sns.histplot(data=df_limpo['usd'], bins=500, kde=True)\n",
        "plt.title('Distribuição dos salários anuais')\n",
        "plt.xlabel('Salário em USD')\n",
        "plt.ylabel('Frequencia')\n",
        "plt.show()"
      ],
      "metadata": {
        "id": "s9HtukP64KYH"
      },
      "execution_count": null,
      "outputs": []
    },
    {
      "cell_type": "code",
      "source": [
        "#4\n",
        "plt.figure(figsize=(10,5))\n",
        "sns.histplot(data=df_limpo['usd'], bins=5, kde=True)\n",
        "plt.title('Distribuição dos salários anuais')\n",
        "plt.xlabel('Salário em USD')\n",
        "plt.ylabel('Frequencia')\n",
        "plt.show()"
      ],
      "metadata": {
        "id": "nkWTyMhA4bPB"
      },
      "execution_count": null,
      "outputs": []
    },
    {
      "cell_type": "code",
      "source": [
        "#5\n",
        "plt.figure(figsize=(10,5))\n",
        "sns.histplot(data=df_limpo['usd'], bins=50, kde=False)\n",
        "plt.title('Distribuição dos salários anuais')\n",
        "plt.xlabel('Salário em USD')\n",
        "plt.ylabel('Frequencia')\n",
        "plt.show()"
      ],
      "metadata": {
        "id": "rswjd_5M45zO"
      },
      "execution_count": null,
      "outputs": []
    },
    {
      "cell_type": "code",
      "source": [
        "# 3ª análise – Distribuição salarial (Boxplot)\n",
        "\n",
        "plt.figure(figsize=(8,5))\n",
        "sns.boxplot(x=df_limpo['usd'])\n",
        "plt.title('Boxplot Salário')\n",
        "plt.xlabel('Salário em USD')\n",
        "plt.show()"
      ],
      "metadata": {
        "id": "uLYR77O85hge"
      },
      "execution_count": null,
      "outputs": []
    },
    {
      "cell_type": "code",
      "source": [
        "# Edição do gráfico (filtro: nível)\n",
        "\n",
        "ordem_senioridade = ['Junior', 'Pleno', 'Senior', 'Executivo']\n",
        "\n",
        "plt.figure(figsize=(8,5))\n",
        "sns.boxplot(x='senioridade', y='usd', data=df_limpo, order=ordem_senioridade)\n",
        "plt.title('Boxplot de distribuição salarial por senioridade')\n",
        "plt.xlabel('Salário em USD')\n",
        "plt.show()"
      ],
      "metadata": {
        "id": "mihl_7tB6n_G"
      },
      "execution_count": null,
      "outputs": []
    },
    {
      "cell_type": "code",
      "source": [
        "# Edição do gráfico (alteração de cores)\n",
        "\n",
        "ordem_senioridade = ['Junior', 'Pleno', 'Senior', 'Executivo']\n",
        "\n",
        "plt.figure(figsize=(8,5))\n",
        "sns.boxplot(x='senioridade', y='usd', data=df_limpo, order=ordem_senioridade, palette='Set2', hue='senioridade')\n",
        "plt.title('Boxplot de distribuição salarial por senioridade')\n",
        "plt.xlabel('Salário em USD')\n",
        "plt.show()"
      ],
      "metadata": {
        "id": "8aHlUmYE_S82"
      },
      "execution_count": null,
      "outputs": []
    },
    {
      "cell_type": "code",
      "source": [
        "# 4ª análise – Gráfico interativo\n",
        "\n",
        "import plotly.express as px\n",
        "\n",
        "senioridade_media_salario = df_limpo.groupby('senioridade')['usd'].mean().sort_values(ascending=False).reset_index()\n",
        "\n",
        "fig = px.bar(senioridade_media_salario,\n",
        "             x='senioridade',\n",
        "             y='usd',\n",
        "             title='Média salarial por senioridade',\n",
        "             labels={'senioridade': 'Nível de senioridade', 'usd': 'Média salarial Anual (USD)'})\n",
        "\n",
        "fig.show()"
      ],
      "metadata": {
        "id": "jfzHtY2ED_QZ"
      },
      "execution_count": null,
      "outputs": []
    },
    {
      "cell_type": "code",
      "source": [
        "# 5ª análise – Gráfico interativo (pizza)\n",
        "\n",
        "# Gráfico pizza\n",
        "remoto_contagem = df_limpo['remoto'].value_counts().reset_index()\n",
        "remoto_contagem.columns = ['tipo_trabalho', 'quantidade']\n",
        "\n",
        "fig = px.pie(remoto_contagem,\n",
        "             names='tipo_trabalho',\n",
        "             values='quantidade',\n",
        "             title='Proporção dos tipos de trabalho')\n",
        "\n",
        "fig.show()"
      ],
      "metadata": {
        "id": "nGaS2yZ-NjKu"
      },
      "execution_count": null,
      "outputs": []
    },
    {
      "cell_type": "code",
      "source": [
        "# Gráfico rosca\n",
        "\n",
        "remoto_contagem = df_limpo['remoto'].value_counts().reset_index()\n",
        "remoto_contagem.columns = ['tipo_trabalho', 'quantidade']\n",
        "\n",
        "fig = px.pie(remoto_contagem,\n",
        "             names='tipo_trabalho',\n",
        "             values='quantidade',\n",
        "             title='Proporção dos tipos de trabalho',\n",
        "             hole=0.5)\n",
        "\n",
        "fig.show()"
      ],
      "metadata": {
        "id": "35xqsBOqOp1m"
      },
      "execution_count": null,
      "outputs": []
    },
    {
      "cell_type": "code",
      "source": [
        "# Edição do gráfico (incluir labels)\n",
        "\n",
        "remoto_contagem = df_limpo['remoto'].value_counts().reset_index()\n",
        "remoto_contagem.columns = ['tipo_trabalho', 'quantidade']\n",
        "\n",
        "fig = px.pie(remoto_contagem,\n",
        "             names='tipo_trabalho',\n",
        "             values='quantidade',\n",
        "             title='Proporção dos tipos de trabalho',\n",
        "             hole=0.5)\n",
        "\n",
        "fig.update_traces(textinfo='percent+label')\n",
        "fig.show()"
      ],
      "metadata": {
        "id": "f9uGtlsSRGpF"
      },
      "execution_count": null,
      "outputs": []
    },
    {
      "cell_type": "markdown",
      "source": [
        "## ***Desafio -*** *Média salarial de Data Scientists por país*"
      ],
      "metadata": {
        "id": "yUZm6ApO6hwJ"
      }
    },
    {
      "cell_type": "code",
      "source": [
        "# Consultar DataFrame atual\n",
        "\n",
        "df_limpo.head()"
      ],
      "metadata": {
        "id": "OaTTR3t7SR_j"
      },
      "execution_count": null,
      "outputs": []
    },
    {
      "cell_type": "code",
      "source": [
        "# Consultar a contagem de cargos por residência\n",
        "df_limpo[['cargo', 'residencia']].value_counts()"
      ],
      "metadata": {
        "id": "RsGLAN7J7YRg"
      },
      "execution_count": null,
      "outputs": []
    },
    {
      "cell_type": "code",
      "metadata": {
        "id": "f06078ab"
      },
      "source": [
        "'''# Filter the DataFrame for 'Data Scientist' job title\n",
        "df_data_scientist = df_limpo[df_limpo['cargo'] == 'Data Scientist']\n",
        "\n",
        "# Plot the distribution of salaries for Data Scientists\n",
        "plt.figure(figsize=(10, 5))\n",
        "sns.histplot(data=df_data_scientist['usd'], bins=50, kde=True)\n",
        "plt.title('Distribuição dos salários para Data Scientists')\n",
        "plt.xlabel('Salário em USD')\n",
        "plt.ylabel('Frequência')\n",
        "plt.show()'''"
      ],
      "execution_count": null,
      "outputs": []
    },
    {
      "cell_type": "code",
      "source": [
        "# Consultar a contagem de cargos por residência\n",
        "qtd_pais = df_limpo['residencia'].value_counts()\n",
        "qtd_pais"
      ],
      "metadata": {
        "id": "e3VjEOd9COSO"
      },
      "execution_count": null,
      "outputs": []
    },
    {
      "cell_type": "code",
      "metadata": {
        "id": "7805aa1d"
      },
      "source": [
        "# Count the number of unique countries\n",
        "num_unique_countries = df_limpo['residencia'].nunique()\n",
        "print(f\"There are {num_unique_countries} unique countries in the dataset.\")"
      ],
      "execution_count": null,
      "outputs": []
    },
    {
      "cell_type": "code",
      "source": [
        "# Filtrar os salários de Data Scientists\n",
        "salario_ds = df_limpo[df_limpo['cargo'] == 'Data Scientist']\n",
        "\n",
        "# Média dos salários por país\n",
        "media_ds = salario_ds.groupby('residencia')['usd'].median()"
      ],
      "metadata": {
        "id": "VvNCgrvW7mZe"
      },
      "execution_count": null,
      "outputs": []
    },
    {
      "cell_type": "code",
      "source": [
        "# Média dos salários por país\n",
        "media_ds = salario_ds.groupby('residencia')['usd'].median().sort_values(ascending=False).reset_index()\n",
        "\n",
        "plt.figure(figsize=(10,5))\n",
        "sns.barplot(data=media_ds, x='residencia', y='usd')\n",
        "plt.title('Distribuição dos salários para Data Scientists')\n",
        "plt.xlabel('País')\n",
        "plt.ylabel('Salário em USD')\n",
        "plt.show()"
      ],
      "metadata": {
        "colab": {
          "base_uri": "https://localhost:8080/",
          "height": 488
        },
        "id": "wpjq-RtMEiPf",
        "outputId": "95189cec-8390-4459-8ffa-d5c5f46d01b7"
      },
      "execution_count": 128,
      "outputs": [
        {
          "output_type": "display_data",
          "data": {
            "text/plain": [
              "<Figure size 1000x500 with 1 Axes>"
            ],
            "image/png": "[encoded data removed]"
          },
          "metadata": {}
        }
      ]
    },
    {
      "cell_type": "code",
      "metadata": {
        "collapsed": true,
        "id": "d1906720"
      },
      "source": [
        "# A dictionary mapping country codes to continents (this is a simplified mapping and may not be exhaustive)\n",
        "continent_map = {\n",
        "    'US': 'North America', 'CA': 'North America', 'GB': 'Europe', 'AU': 'Oceania', 'NL': 'Europe',\n",
        "    'DE': 'Europe', 'JP': 'Asia', 'FR': 'Europe', 'ES': 'Europe', 'BR': 'South America',\n",
        "    'IT': 'Europe', 'AR': 'South America', 'RU': 'Europe', 'UA': 'Europe', 'SG': 'Asia',\n",
        "    'IN': 'Asia', 'AE': 'Asia', 'IE': 'Europe', 'CH': 'Europe', 'AT': 'Europe',\n",
        "    'PL': 'Europe', 'TR': 'Asia', 'PK': 'Asia', 'PR': 'North America', 'DK': 'Europe',\n",
        "    'SE': 'Europe', 'BG': 'Europe', 'SI': 'Europe', 'HR': 'Europe', 'RS': 'Europe',\n",
        "    'EE': 'Europe', 'CZ': 'Europe', 'GR': 'Europe', 'RO': 'Europe', 'VN': 'Asia',\n",
        "    'AS': 'Oceania', 'BO': 'South America', 'CL': 'South America', 'CO': 'South America', 'CU': 'North America', # CU is North America\n",
        "    'CY': 'Europe', 'DZ': 'Africa', 'EC': 'South America', 'EG': 'Africa',\n",
        "    'GE': 'Asia', 'GH': 'Africa', 'HK': 'Asia', 'HU': 'Europe', 'ID': 'Asia',\n",
        "    'IL': 'Asia', 'IQ': 'Asia', 'IR': 'Asia', 'JE': 'Europe', 'KE': 'Africa',\n",
        "    'KW': 'Asia', 'KZ': 'Asia', 'LA': 'Asia', 'LU': 'Europe', 'MD': 'Europe',\n",
        "    'MT': 'Europe', 'MY': 'Asia', 'NG': 'Africa', 'NZ': 'Oceania', 'PE': 'South America',\n",
        "    'PH': 'Asia', 'PK': 'Asia', 'PT': 'Europe', 'PR': 'North America', 'RO': 'Europe',\n",
        "    'SA': 'Asia', 'SI': 'Europe', 'SK': 'Europe', 'TH': 'Asia', 'TN': 'Africa',\n",
        "    'TR': 'Asia', 'TZ': 'Africa', 'UG': 'Africa', 'UY': 'South America',\n",
        "    'UZ': 'Asia', 'VE': 'South America', 'ZA': 'Africa', 'BA': 'Europe', 'CN': 'Asia',\n",
        "    'DO': 'North America', 'EE': 'Europe', 'FI': 'Europe', 'GP': 'North America', 'HN': 'North America',\n",
        "    'KG': 'Asia', 'LV': 'Europe', 'MA': 'Africa', 'MM': 'Asia', 'MX': 'North America',\n",
        "    'MZ': 'Africa', 'NI': 'North America', 'NO': 'Europe', 'NP': 'Asia', 'PK': 'Asia',\n",
        "    'PT': 'Europe', 'RS': 'Europe', 'SG': 'Asia', 'SK': 'Europe', 'UG': 'Africa',\n",
        "    'VN': 'Asia', 'XK': 'Europe', 'YE': 'Asia',\n",
        "    # Adding previously unmapped countries and explicitly mapping Central American countries\n",
        "    'LT': 'Europe', 'MK': 'Europe', 'LS': 'Africa', 'JM': 'North America', 'BE': 'Europe',\n",
        "    'PA': 'Central America', 'CD': 'Africa', 'KR': 'Asia', 'TW': 'Asia', 'JO': 'Asia',\n",
        "    'SV': 'Central America', 'ZM': 'Africa', 'AM': 'Asia', 'RW': 'Africa', 'LB': 'Asia',\n",
        "    'BM': 'North America', 'OM': 'Asia', 'MU': 'Africa', 'QA': 'Asia', 'AD': 'Europe', 'CF': 'Africa',\n",
        "    'BZ': 'Central America', 'CR': 'Central America', 'GT': 'Central America', 'HN': 'Central America', 'NI': 'Central America' # Explicitly adding other Central American countries and mapping them to Central America\n",
        "}\n",
        "\n",
        "# Add a 'continent' column to the Data Scientist DataFrame\n",
        "salario_ds.loc[:, 'continent'] = salario_ds['residencia'].map(continent_map)\n",
        "\n",
        "# Calculate the median salary by continent\n",
        "median_salary_by_continent = salario_ds.groupby('continent')['usd'].median().sort_values(ascending=False).reset_index()\n",
        "\n",
        "# Visualize the median salary by continent\n",
        "plt.figure(figsize=(10, 6))\n",
        "sns.barplot(data=median_salary_by_continent, x='continent', y='usd', palette='viridis', hue='continent', legend=False)\n",
        "plt.title('Median Data Scientist Salary by Continent')\n",
        "plt.xlabel('Continent')\n",
        "plt.ylabel('Median Salary (USD)')\n",
        "plt.xticks(rotation=45, ha='right') # Rotate x-axis labels for better readability\n",
        "plt.tight_layout() # Adjust layout to prevent labels from overlapping\n",
        "plt.show()"
      ],
      "execution_count": null,
      "outputs": []
    },
    {
      "cell_type": "code",
      "source": [
        "salario_ds['continent'].unique()"
      ],
      "metadata": {
        "colab": {
          "base_uri": "https://localhost:8080/"
        },
        "id": "0ZSPBXYelPJd",
        "outputId": "9f4be59e-00f8-4b50-ce57-5534d40c8ad3"
      },
      "execution_count": 130,
      "outputs": [
        {
          "output_type": "execute_result",
          "data": {
            "text/plain": [
              "array(['North America', 'Europe', 'Oceania', 'Asia', 'South America',\n",
              "       'Africa'], dtype=object)"
            ]
          },
          "metadata": {},
          "execution_count": 130
        }
      ]
    },
    {
      "cell_type": "code",
      "metadata": {
        "id": "51e610ba"
      },
      "source": [
        "# List of Central American country codes\n",
        "central_america_codes = ['PA', 'SV', 'CR', 'GT', 'HN', 'NI', 'BZ']\n",
        "\n",
        "# Filter the original df_limpo DataFrame for these countries\n",
        "central_america_data = df_limpo[df_limpo['residencia'].isin(central_america_codes)]\n",
        "\n",
        "# Display the number of rows found and the first few rows if any\n",
        "print(f\"Number of job entries from Central American countries in the dataset: {len(central_america_data)}\")\n",
        "\n",
        "if not central_america_data.empty:\n",
        "    print(\"\\nFirst 5 job entries from Central American countries:\")\n",
        "    display(central_america_data.head())\n",
        "else:\n",
        "    print(\"\\nNo job entries found from Central American countries in the dataset.\")"
      ],
      "execution_count": null,
      "outputs": []
    },
    {
      "cell_type": "code",
      "metadata": {
        "id": "ff58624b"
      },
      "source": [
        "# List of Central American country codes we intended to map\n",
        "central_america_codes_to_map = ['PA', 'SV', 'CR', 'GT', 'HN', 'NI', 'BZ']\n",
        "\n",
        "# Check which of these codes are present in the 'residencia' column of salario_ds\n",
        "present_central_america_in_salario_ds = salario_ds[salario_ds['residencia'].isin(central_america_codes_to_map)]['residencia'].unique()\n",
        "\n",
        "if len(present_central_america_in_salario_ds) > 0:\n",
        "    print(\"The following Central American country codes are present in the salario_ds DataFrame:\")\n",
        "    print(present_central_america_in_salario_ds)\n",
        "\n",
        "    # Check how these present codes are mapped in the current continent_map\n",
        "    print(\"\\nMapping of these countries according to the current continent_map:\")\n",
        "    for code in present_central_america_in_salario_ds:\n",
        "        print(f\"{code}: {continent_map.get(code, 'Not mapped in continent_map')}\")\n",
        "else:\n",
        "    print(\"No Central American country codes were found in the salario_ds DataFrame.\")"
      ],
      "execution_count": null,
      "outputs": []
    },
    {
      "cell_type": "code",
      "source": [
        "# Gráfico interativo média salarial por país\n",
        "\n",
        "fig = px.bar(media_ds,\n",
        "             x='residencia',\n",
        "             y='usd',\n",
        "             color='residencia',\n",
        "             title='Média salarial por país',\n",
        "             labels={'residencia': 'País', 'usd': 'Média salarial Anual (USD)'}\n",
        "             )\n",
        "\n",
        "fig.show()"
      ],
      "metadata": {
        "colab": {
          "base_uri": "https://localhost:8080/",
          "height": 542
        },
        "id": "SrHbjtUqKeKo",
        "outputId": "3a5e9f29-b833-4a15-ee3f-4eb5e75c71ac"
      },
      "execution_count": 129,
      "outputs": [
        {
          "output_type": "display_data",
          "data": {
            "text/html": [
              "<html>\n",
              "<head><meta charset=\"utf-8\" /></head>\n",
              "<body>\n",
              "    <div>            <script src=\"https://cdnjs.cloudflare.com/ajax/libs/mathjax/2.7.5/MathJax.js?config=TeX-AMS-MML_SVG\"></script><script type=\"text/javascript\">if (window.MathJax && window.MathJax.Hub && window.MathJax.Hub.Config) {window.MathJax.Hub.Config({SVG: {font: \"STIX-Web\"}});}</script>                <script type=\"text/javascript\">window.PlotlyConfig = {MathJaxConfig: 'local'};</script>\n",
              "        <script charset=\"utf-8\" src=\"https://cdn.plot.ly/plotly-2.35.2.min.js\"></script>                <div id=\"1d4a4d9a-7571-46e6-bef6-f2cf2799c480\" class=\"plotly-graph-div\" style=\"height:525px; width:100%;\"></div>            <script type=\"text/javascript\">                                    window.PLOTLYENV=window.PLOTLYENV || {};                                    if (document.getElementById(\"1d4a4d9a-7571-46e6-bef6-f2cf2799c480\")) {                    Plotly.newPlot(                        \"1d4a4d9a-7571-46e6-bef6-f2cf2799c480\",                        [{\"alignmentgroup\":\"True\",\"hovertemplate\":\"País=%{x}\\u003cbr\\u003eMédia salarial Anual (USD)=%{y}\\u003cextra\\u003e\\u003c\\u002fextra\\u003e\",\"legendgroup\":\"US\",\"marker\":{\"color\":\"#636efa\",\"pattern\":{\"shape\":\"\"}},\"name\":\"US\",\"offsetgroup\":\"US\",\"orientation\":\"v\",\"showlegend\":true,\"textposition\":\"auto\",\"x\":[\"US\"],\"xaxis\":\"x\",\"y\":[156400.0],\"yaxis\":\"y\",\"type\":\"bar\"},{\"alignmentgroup\":\"True\",\"hovertemplate\":\"País=%{x}\\u003cbr\\u003eMédia salarial Anual (USD)=%{y}\\u003cextra\\u003e\\u003c\\u002fextra\\u003e\",\"legendgroup\":\"BG\",\"marker\":{\"color\":\"#EF553B\",\"pattern\":{\"shape\":\"\"}},\"name\":\"BG\",\"offsetgroup\":\"BG\",\"orientation\":\"v\",\"showlegend\":true,\"textposition\":\"auto\",\"x\":[\"BG\"],\"xaxis\":\"x\",\"y\":[152500.0],\"yaxis\":\"y\",\"type\":\"bar\"},{\"alignmentgroup\":\"True\",\"hovertemplate\":\"País=%{x}\\u003cbr\\u003eMédia salarial Anual (USD)=%{y}\\u003cextra\\u003e\\u003c\\u002fextra\\u003e\",\"legendgroup\":\"SG\",\"marker\":{\"color\":\"#00cc96\",\"pattern\":{\"shape\":\"\"}},\"name\":\"SG\",\"offsetgroup\":\"SG\",\"orientation\":\"v\",\"showlegend\":true,\"textposition\":\"auto\",\"x\":[\"SG\"],\"xaxis\":\"x\",\"y\":[143700.0],\"yaxis\":\"y\",\"type\":\"bar\"},{\"alignmentgroup\":\"True\",\"hovertemplate\":\"País=%{x}\\u003cbr\\u003eMédia salarial Anual (USD)=%{y}\\u003cextra\\u003e\\u003c\\u002fextra\\u003e\",\"legendgroup\":\"JP\",\"marker\":{\"color\":\"#ab63fa\",\"pattern\":{\"shape\":\"\"}},\"name\":\"JP\",\"offsetgroup\":\"JP\",\"orientation\":\"v\",\"showlegend\":true,\"textposition\":\"auto\",\"x\":[\"JP\"],\"xaxis\":\"x\",\"y\":[137000.0],\"yaxis\":\"y\",\"type\":\"bar\"},{\"alignmentgroup\":\"True\",\"hovertemplate\":\"País=%{x}\\u003cbr\\u003eMédia salarial Anual (USD)=%{y}\\u003cextra\\u003e\\u003c\\u002fextra\\u003e\",\"legendgroup\":\"CA\",\"marker\":{\"color\":\"#FFA15A\",\"pattern\":{\"shape\":\"\"}},\"name\":\"CA\",\"offsetgroup\":\"CA\",\"orientation\":\"v\",\"showlegend\":true,\"textposition\":\"auto\",\"x\":[\"CA\"],\"xaxis\":\"x\",\"y\":[135000.0],\"yaxis\":\"y\",\"type\":\"bar\"},{\"alignmentgroup\":\"True\",\"hovertemplate\":\"País=%{x}\\u003cbr\\u003eMédia salarial Anual (USD)=%{y}\\u003cextra\\u003e\\u003c\\u002fextra\\u003e\",\"legendgroup\":\"EG\",\"marker\":{\"color\":\"#19d3f3\",\"pattern\":{\"shape\":\"\"}},\"name\":\"EG\",\"offsetgroup\":\"EG\",\"orientation\":\"v\",\"showlegend\":true,\"textposition\":\"auto\",\"x\":[\"EG\"],\"xaxis\":\"x\",\"y\":[131300.0],\"yaxis\":\"y\",\"type\":\"bar\"},{\"alignmentgroup\":\"True\",\"hovertemplate\":\"País=%{x}\\u003cbr\\u003eMédia salarial Anual (USD)=%{y}\\u003cextra\\u003e\\u003c\\u002fextra\\u003e\",\"legendgroup\":\"CH\",\"marker\":{\"color\":\"#FF6692\",\"pattern\":{\"shape\":\"\"}},\"name\":\"CH\",\"offsetgroup\":\"CH\",\"orientation\":\"v\",\"showlegend\":true,\"textposition\":\"auto\",\"x\":[\"CH\"],\"xaxis\":\"x\",\"y\":[121520.0],\"yaxis\":\"y\",\"type\":\"bar\"},{\"alignmentgroup\":\"True\",\"hovertemplate\":\"País=%{x}\\u003cbr\\u003eMédia salarial Anual (USD)=%{y}\\u003cextra\\u003e\\u003c\\u002fextra\\u003e\",\"legendgroup\":\"NZ\",\"marker\":{\"color\":\"#B6E880\",\"pattern\":{\"shape\":\"\"}},\"name\":\"NZ\",\"offsetgroup\":\"NZ\",\"orientation\":\"v\",\"showlegend\":true,\"textposition\":\"auto\",\"x\":[\"NZ\"],\"xaxis\":\"x\",\"y\":[121317.0],\"yaxis\":\"y\",\"type\":\"bar\"},{\"alignmentgroup\":\"True\",\"hovertemplate\":\"País=%{x}\\u003cbr\\u003eMédia salarial Anual (USD)=%{y}\\u003cextra\\u003e\\u003c\\u002fextra\\u003e\",\"legendgroup\":\"DO\",\"marker\":{\"color\":\"#FF97FF\",\"pattern\":{\"shape\":\"\"}},\"name\":\"DO\",\"offsetgroup\":\"DO\",\"orientation\":\"v\",\"showlegend\":true,\"textposition\":\"auto\",\"x\":[\"DO\"],\"xaxis\":\"x\",\"y\":[110000.0],\"yaxis\":\"y\",\"type\":\"bar\"},{\"alignmentgroup\":\"True\",\"hovertemplate\":\"País=%{x}\\u003cbr\\u003eMédia salarial Anual (USD)=%{y}\\u003cextra\\u003e\\u003c\\u002fextra\\u003e\",\"legendgroup\":\"AU\",\"marker\":{\"color\":\"#FECB52\",\"pattern\":{\"shape\":\"\"}},\"name\":\"AU\",\"offsetgroup\":\"AU\",\"orientation\":\"v\",\"showlegend\":true,\"textposition\":\"auto\",\"x\":[\"AU\"],\"xaxis\":\"x\",\"y\":[108557.0],\"yaxis\":\"y\",\"type\":\"bar\"},{\"alignmentgroup\":\"True\",\"hovertemplate\":\"País=%{x}\\u003cbr\\u003eMédia salarial Anual (USD)=%{y}\\u003cextra\\u003e\\u003c\\u002fextra\\u003e\",\"legendgroup\":\"DZ\",\"marker\":{\"color\":\"#636efa\",\"pattern\":{\"shape\":\"\"}},\"name\":\"DZ\",\"offsetgroup\":\"DZ\",\"orientation\":\"v\",\"showlegend\":true,\"textposition\":\"auto\",\"x\":[\"DZ\"],\"xaxis\":\"x\",\"y\":[100000.0],\"yaxis\":\"y\",\"type\":\"bar\"},{\"alignmentgroup\":\"True\",\"hovertemplate\":\"País=%{x}\\u003cbr\\u003eMédia salarial Anual (USD)=%{y}\\u003cextra\\u003e\\u003c\\u002fextra\\u003e\",\"legendgroup\":\"IT\",\"marker\":{\"color\":\"#EF553B\",\"pattern\":{\"shape\":\"\"}},\"name\":\"IT\",\"offsetgroup\":\"IT\",\"orientation\":\"v\",\"showlegend\":true,\"textposition\":\"auto\",\"x\":[\"IT\"],\"xaxis\":\"x\",\"y\":[98000.0],\"yaxis\":\"y\",\"type\":\"bar\"},{\"alignmentgroup\":\"True\",\"hovertemplate\":\"País=%{x}\\u003cbr\\u003eMédia salarial Anual (USD)=%{y}\\u003cextra\\u003e\\u003c\\u002fextra\\u003e\",\"legendgroup\":\"KR\",\"marker\":{\"color\":\"#00cc96\",\"pattern\":{\"shape\":\"\"}},\"name\":\"KR\",\"offsetgroup\":\"KR\",\"orientation\":\"v\",\"showlegend\":true,\"textposition\":\"auto\",\"x\":[\"KR\"],\"xaxis\":\"x\",\"y\":[95732.0],\"yaxis\":\"y\",\"type\":\"bar\"},{\"alignmentgroup\":\"True\",\"hovertemplate\":\"País=%{x}\\u003cbr\\u003eMédia salarial Anual (USD)=%{y}\\u003cextra\\u003e\\u003c\\u002fextra\\u003e\",\"legendgroup\":\"NO\",\"marker\":{\"color\":\"#ab63fa\",\"pattern\":{\"shape\":\"\"}},\"name\":\"NO\",\"offsetgroup\":\"NO\",\"orientation\":\"v\",\"showlegend\":true,\"textposition\":\"auto\",\"x\":[\"NO\"],\"xaxis\":\"x\",\"y\":[88462.0],\"yaxis\":\"y\",\"type\":\"bar\"},{\"alignmentgroup\":\"True\",\"hovertemplate\":\"País=%{x}\\u003cbr\\u003eMédia salarial Anual (USD)=%{y}\\u003cextra\\u003e\\u003c\\u002fextra\\u003e\",\"legendgroup\":\"SE\",\"marker\":{\"color\":\"#FFA15A\",\"pattern\":{\"shape\":\"\"}},\"name\":\"SE\",\"offsetgroup\":\"SE\",\"orientation\":\"v\",\"showlegend\":true,\"textposition\":\"auto\",\"x\":[\"SE\"],\"xaxis\":\"x\",\"y\":[87157.5],\"yaxis\":\"y\",\"type\":\"bar\"},{\"alignmentgroup\":\"True\",\"hovertemplate\":\"País=%{x}\\u003cbr\\u003eMédia salarial Anual (USD)=%{y}\\u003cextra\\u003e\\u003c\\u002fextra\\u003e\",\"legendgroup\":\"PT\",\"marker\":{\"color\":\"#19d3f3\",\"pattern\":{\"shape\":\"\"}},\"name\":\"PT\",\"offsetgroup\":\"PT\",\"orientation\":\"v\",\"showlegend\":true,\"textposition\":\"auto\",\"x\":[\"PT\"],\"xaxis\":\"x\",\"y\":[86110.5],\"yaxis\":\"y\",\"type\":\"bar\"},{\"alignmentgroup\":\"True\",\"hovertemplate\":\"País=%{x}\\u003cbr\\u003eMédia salarial Anual (USD)=%{y}\\u003cextra\\u003e\\u003c\\u002fextra\\u003e\",\"legendgroup\":\"UA\",\"marker\":{\"color\":\"#FF6692\",\"pattern\":{\"shape\":\"\"}},\"name\":\"UA\",\"offsetgroup\":\"UA\",\"orientation\":\"v\",\"showlegend\":true,\"textposition\":\"auto\",\"x\":[\"UA\"],\"xaxis\":\"x\",\"y\":[85000.0],\"yaxis\":\"y\",\"type\":\"bar\"},{\"alignmentgroup\":\"True\",\"hovertemplate\":\"País=%{x}\\u003cbr\\u003eMédia salarial Anual (USD)=%{y}\\u003cextra\\u003e\\u003c\\u002fextra\\u003e\",\"legendgroup\":\"IE\",\"marker\":{\"color\":\"#B6E880\",\"pattern\":{\"shape\":\"\"}},\"name\":\"IE\",\"offsetgroup\":\"IE\",\"orientation\":\"v\",\"showlegend\":true,\"textposition\":\"auto\",\"x\":[\"IE\"],\"xaxis\":\"x\",\"y\":[84210.0],\"yaxis\":\"y\",\"type\":\"bar\"},{\"alignmentgroup\":\"True\",\"hovertemplate\":\"País=%{x}\\u003cbr\\u003eMédia salarial Anual (USD)=%{y}\\u003cextra\\u003e\\u003c\\u002fextra\\u003e\",\"legendgroup\":\"MX\",\"marker\":{\"color\":\"#FF97FF\",\"pattern\":{\"shape\":\"\"}},\"name\":\"MX\",\"offsetgroup\":\"MX\",\"orientation\":\"v\",\"showlegend\":true,\"textposition\":\"auto\",\"x\":[\"MX\"],\"xaxis\":\"x\",\"y\":[83400.0],\"yaxis\":\"y\",\"type\":\"bar\"},{\"alignmentgroup\":\"True\",\"hovertemplate\":\"País=%{x}\\u003cbr\\u003eMédia salarial Anual (USD)=%{y}\\u003cextra\\u003e\\u003c\\u002fextra\\u003e\",\"legendgroup\":\"DE\",\"marker\":{\"color\":\"#FECB52\",\"pattern\":{\"shape\":\"\"}},\"name\":\"DE\",\"offsetgroup\":\"DE\",\"orientation\":\"v\",\"showlegend\":true,\"textposition\":\"auto\",\"x\":[\"DE\"],\"xaxis\":\"x\",\"y\":[76980.0],\"yaxis\":\"y\",\"type\":\"bar\"},{\"alignmentgroup\":\"True\",\"hovertemplate\":\"País=%{x}\\u003cbr\\u003eMédia salarial Anual (USD)=%{y}\\u003cextra\\u003e\\u003c\\u002fextra\\u003e\",\"legendgroup\":\"PH\",\"marker\":{\"color\":\"#636efa\",\"pattern\":{\"shape\":\"\"}},\"name\":\"PH\",\"offsetgroup\":\"PH\",\"orientation\":\"v\",\"showlegend\":true,\"textposition\":\"auto\",\"x\":[\"PH\"],\"xaxis\":\"x\",\"y\":[76864.0],\"yaxis\":\"y\",\"type\":\"bar\"},{\"alignmentgroup\":\"True\",\"hovertemplate\":\"País=%{x}\\u003cbr\\u003eMédia salarial Anual (USD)=%{y}\\u003cextra\\u003e\\u003c\\u002fextra\\u003e\",\"legendgroup\":\"GB\",\"marker\":{\"color\":\"#EF553B\",\"pattern\":{\"shape\":\"\"}},\"name\":\"GB\",\"offsetgroup\":\"GB\",\"orientation\":\"v\",\"showlegend\":true,\"textposition\":\"auto\",\"x\":[\"GB\"],\"xaxis\":\"x\",\"y\":[75949.0],\"yaxis\":\"y\",\"type\":\"bar\"},{\"alignmentgroup\":\"True\",\"hovertemplate\":\"País=%{x}\\u003cbr\\u003eMédia salarial Anual (USD)=%{y}\\u003cextra\\u003e\\u003c\\u002fextra\\u003e\",\"legendgroup\":\"PL\",\"marker\":{\"color\":\"#00cc96\",\"pattern\":{\"shape\":\"\"}},\"name\":\"PL\",\"offsetgroup\":\"PL\",\"orientation\":\"v\",\"showlegend\":true,\"textposition\":\"auto\",\"x\":[\"PL\"],\"xaxis\":\"x\",\"y\":[74000.0],\"yaxis\":\"y\",\"type\":\"bar\"},{\"alignmentgroup\":\"True\",\"hovertemplate\":\"País=%{x}\\u003cbr\\u003eMédia salarial Anual (USD)=%{y}\\u003cextra\\u003e\\u003c\\u002fextra\\u003e\",\"legendgroup\":\"UZ\",\"marker\":{\"color\":\"#ab63fa\",\"pattern\":{\"shape\":\"\"}},\"name\":\"UZ\",\"offsetgroup\":\"UZ\",\"orientation\":\"v\",\"showlegend\":true,\"textposition\":\"auto\",\"x\":[\"UZ\"],\"xaxis\":\"x\",\"y\":[73000.0],\"yaxis\":\"y\",\"type\":\"bar\"},{\"alignmentgroup\":\"True\",\"hovertemplate\":\"País=%{x}\\u003cbr\\u003eMédia salarial Anual (USD)=%{y}\\u003cextra\\u003e\\u003c\\u002fextra\\u003e\",\"legendgroup\":\"NL\",\"marker\":{\"color\":\"#FFA15A\",\"pattern\":{\"shape\":\"\"}},\"name\":\"NL\",\"offsetgroup\":\"NL\",\"orientation\":\"v\",\"showlegend\":true,\"textposition\":\"auto\",\"x\":[\"NL\"],\"xaxis\":\"x\",\"y\":[67029.0],\"yaxis\":\"y\",\"type\":\"bar\"},{\"alignmentgroup\":\"True\",\"hovertemplate\":\"País=%{x}\\u003cbr\\u003eMédia salarial Anual (USD)=%{y}\\u003cextra\\u003e\\u003c\\u002fextra\\u003e\",\"legendgroup\":\"RU\",\"marker\":{\"color\":\"#19d3f3\",\"pattern\":{\"shape\":\"\"}},\"name\":\"RU\",\"offsetgroup\":\"RU\",\"orientation\":\"v\",\"showlegend\":true,\"textposition\":\"auto\",\"x\":[\"RU\"],\"xaxis\":\"x\",\"y\":[66500.0],\"yaxis\":\"y\",\"type\":\"bar\"},{\"alignmentgroup\":\"True\",\"hovertemplate\":\"País=%{x}\\u003cbr\\u003eMédia salarial Anual (USD)=%{y}\\u003cextra\\u003e\\u003c\\u002fextra\\u003e\",\"legendgroup\":\"BE\",\"marker\":{\"color\":\"#FF6692\",\"pattern\":{\"shape\":\"\"}},\"name\":\"BE\",\"offsetgroup\":\"BE\",\"orientation\":\"v\",\"showlegend\":true,\"textposition\":\"auto\",\"x\":[\"BE\"],\"xaxis\":\"x\",\"y\":[65551.0],\"yaxis\":\"y\",\"type\":\"bar\"},{\"alignmentgroup\":\"True\",\"hovertemplate\":\"País=%{x}\\u003cbr\\u003eMédia salarial Anual (USD)=%{y}\\u003cextra\\u003e\\u003c\\u002fextra\\u003e\",\"legendgroup\":\"HK\",\"marker\":{\"color\":\"#B6E880\",\"pattern\":{\"shape\":\"\"}},\"name\":\"HK\",\"offsetgroup\":\"HK\",\"orientation\":\"v\",\"showlegend\":true,\"textposition\":\"auto\",\"x\":[\"HK\"],\"xaxis\":\"x\",\"y\":[65058.0],\"yaxis\":\"y\",\"type\":\"bar\"},{\"alignmentgroup\":\"True\",\"hovertemplate\":\"País=%{x}\\u003cbr\\u003eMédia salarial Anual (USD)=%{y}\\u003cextra\\u003e\\u003c\\u002fextra\\u003e\",\"legendgroup\":\"CY\",\"marker\":{\"color\":\"#FF97FF\",\"pattern\":{\"shape\":\"\"}},\"name\":\"CY\",\"offsetgroup\":\"CY\",\"orientation\":\"v\",\"showlegend\":true,\"textposition\":\"auto\",\"x\":[\"CY\"],\"xaxis\":\"x\",\"y\":[63701.0],\"yaxis\":\"y\",\"type\":\"bar\"},{\"alignmentgroup\":\"True\",\"hovertemplate\":\"País=%{x}\\u003cbr\\u003eMédia salarial Anual (USD)=%{y}\\u003cextra\\u003e\\u003c\\u002fextra\\u003e\",\"legendgroup\":\"LT\",\"marker\":{\"color\":\"#FECB52\",\"pattern\":{\"shape\":\"\"}},\"name\":\"LT\",\"offsetgroup\":\"LT\",\"orientation\":\"v\",\"showlegend\":true,\"textposition\":\"auto\",\"x\":[\"LT\"],\"xaxis\":\"x\",\"y\":[63157.0],\"yaxis\":\"y\",\"type\":\"bar\"},{\"alignmentgroup\":\"True\",\"hovertemplate\":\"País=%{x}\\u003cbr\\u003eMédia salarial Anual (USD)=%{y}\\u003cextra\\u003e\\u003c\\u002fextra\\u003e\",\"legendgroup\":\"FR\",\"marker\":{\"color\":\"#636efa\",\"pattern\":{\"shape\":\"\"}},\"name\":\"FR\",\"offsetgroup\":\"FR\",\"orientation\":\"v\",\"showlegend\":true,\"textposition\":\"auto\",\"x\":[\"FR\"],\"xaxis\":\"x\",\"y\":[63040.0],\"yaxis\":\"y\",\"type\":\"bar\"},{\"alignmentgroup\":\"True\",\"hovertemplate\":\"País=%{x}\\u003cbr\\u003eMédia salarial Anual (USD)=%{y}\\u003cextra\\u003e\\u003c\\u002fextra\\u003e\",\"legendgroup\":\"LV\",\"marker\":{\"color\":\"#EF553B\",\"pattern\":{\"shape\":\"\"}},\"name\":\"LV\",\"offsetgroup\":\"LV\",\"orientation\":\"v\",\"showlegend\":true,\"textposition\":\"auto\",\"x\":[\"LV\"],\"xaxis\":\"x\",\"y\":[61001.5],\"yaxis\":\"y\",\"type\":\"bar\"},{\"alignmentgroup\":\"True\",\"hovertemplate\":\"País=%{x}\\u003cbr\\u003eMédia salarial Anual (USD)=%{y}\\u003cextra\\u003e\\u003c\\u002fextra\\u003e\",\"legendgroup\":\"AD\",\"marker\":{\"color\":\"#00cc96\",\"pattern\":{\"shape\":\"\"}},\"name\":\"AD\",\"offsetgroup\":\"AD\",\"orientation\":\"v\",\"showlegend\":true,\"textposition\":\"auto\",\"x\":[\"AD\"],\"xaxis\":\"x\",\"y\":[50745.0],\"yaxis\":\"y\",\"type\":\"bar\"},{\"alignmentgroup\":\"True\",\"hovertemplate\":\"País=%{x}\\u003cbr\\u003eMédia salarial Anual (USD)=%{y}\\u003cextra\\u003e\\u003c\\u002fextra\\u003e\",\"legendgroup\":\"NG\",\"marker\":{\"color\":\"#ab63fa\",\"pattern\":{\"shape\":\"\"}},\"name\":\"NG\",\"offsetgroup\":\"NG\",\"orientation\":\"v\",\"showlegend\":true,\"textposition\":\"auto\",\"x\":[\"NG\"],\"xaxis\":\"x\",\"y\":[50000.0],\"yaxis\":\"y\",\"type\":\"bar\"},{\"alignmentgroup\":\"True\",\"hovertemplate\":\"País=%{x}\\u003cbr\\u003eMédia salarial Anual (USD)=%{y}\\u003cextra\\u003e\\u003c\\u002fextra\\u003e\",\"legendgroup\":\"KE\",\"marker\":{\"color\":\"#FFA15A\",\"pattern\":{\"shape\":\"\"}},\"name\":\"KE\",\"offsetgroup\":\"KE\",\"orientation\":\"v\",\"showlegend\":true,\"textposition\":\"auto\",\"x\":[\"KE\"],\"xaxis\":\"x\",\"y\":[50000.0],\"yaxis\":\"y\",\"type\":\"bar\"},{\"alignmentgroup\":\"True\",\"hovertemplate\":\"País=%{x}\\u003cbr\\u003eMédia salarial Anual (USD)=%{y}\\u003cextra\\u003e\\u003c\\u002fextra\\u003e\",\"legendgroup\":\"AT\",\"marker\":{\"color\":\"#19d3f3\",\"pattern\":{\"shape\":\"\"}},\"name\":\"AT\",\"offsetgroup\":\"AT\",\"orientation\":\"v\",\"showlegend\":true,\"textposition\":\"auto\",\"x\":[\"AT\"],\"xaxis\":\"x\",\"y\":[46842.0],\"yaxis\":\"y\",\"type\":\"bar\"},{\"alignmentgroup\":\"True\",\"hovertemplate\":\"País=%{x}\\u003cbr\\u003eMédia salarial Anual (USD)=%{y}\\u003cextra\\u003e\\u003c\\u002fextra\\u003e\",\"legendgroup\":\"AR\",\"marker\":{\"color\":\"#FF6692\",\"pattern\":{\"shape\":\"\"}},\"name\":\"AR\",\"offsetgroup\":\"AR\",\"orientation\":\"v\",\"showlegend\":true,\"textposition\":\"auto\",\"x\":[\"AR\"],\"xaxis\":\"x\",\"y\":[45000.0],\"yaxis\":\"y\",\"type\":\"bar\"},{\"alignmentgroup\":\"True\",\"hovertemplate\":\"País=%{x}\\u003cbr\\u003eMédia salarial Anual (USD)=%{y}\\u003cextra\\u003e\\u003c\\u002fextra\\u003e\",\"legendgroup\":\"ZA\",\"marker\":{\"color\":\"#B6E880\",\"pattern\":{\"shape\":\"\"}},\"name\":\"ZA\",\"offsetgroup\":\"ZA\",\"orientation\":\"v\",\"showlegend\":true,\"textposition\":\"auto\",\"x\":[\"ZA\"],\"xaxis\":\"x\",\"y\":[42457.0],\"yaxis\":\"y\",\"type\":\"bar\"},{\"alignmentgroup\":\"True\",\"hovertemplate\":\"País=%{x}\\u003cbr\\u003eMédia salarial Anual (USD)=%{y}\\u003cextra\\u003e\\u003c\\u002fextra\\u003e\",\"legendgroup\":\"ES\",\"marker\":{\"color\":\"#FF97FF\",\"pattern\":{\"shape\":\"\"}},\"name\":\"ES\",\"offsetgroup\":\"ES\",\"orientation\":\"v\",\"showlegend\":true,\"textposition\":\"auto\",\"x\":[\"ES\"],\"xaxis\":\"x\",\"y\":[42222.0],\"yaxis\":\"y\",\"type\":\"bar\"},{\"alignmentgroup\":\"True\",\"hovertemplate\":\"País=%{x}\\u003cbr\\u003eMédia salarial Anual (USD)=%{y}\\u003cextra\\u003e\\u003c\\u002fextra\\u003e\",\"legendgroup\":\"GR\",\"marker\":{\"color\":\"#FECB52\",\"pattern\":{\"shape\":\"\"}},\"name\":\"GR\",\"offsetgroup\":\"GR\",\"orientation\":\"v\",\"showlegend\":true,\"textposition\":\"auto\",\"x\":[\"GR\"],\"xaxis\":\"x\",\"y\":[40189.0],\"yaxis\":\"y\",\"type\":\"bar\"},{\"alignmentgroup\":\"True\",\"hovertemplate\":\"País=%{x}\\u003cbr\\u003eMédia salarial Anual (USD)=%{y}\\u003cextra\\u003e\\u003c\\u002fextra\\u003e\",\"legendgroup\":\"CL\",\"marker\":{\"color\":\"#636efa\",\"pattern\":{\"shape\":\"\"}},\"name\":\"CL\",\"offsetgroup\":\"CL\",\"orientation\":\"v\",\"showlegend\":true,\"textposition\":\"auto\",\"x\":[\"CL\"],\"xaxis\":\"x\",\"y\":[40038.0],\"yaxis\":\"y\",\"type\":\"bar\"},{\"alignmentgroup\":\"True\",\"hovertemplate\":\"País=%{x}\\u003cbr\\u003eMédia salarial Anual (USD)=%{y}\\u003cextra\\u003e\\u003c\\u002fextra\\u003e\",\"legendgroup\":\"FI\",\"marker\":{\"color\":\"#EF553B\",\"pattern\":{\"shape\":\"\"}},\"name\":\"FI\",\"offsetgroup\":\"FI\",\"orientation\":\"v\",\"showlegend\":true,\"textposition\":\"auto\",\"x\":[\"FI\"],\"xaxis\":\"x\",\"y\":[40000.0],\"yaxis\":\"y\",\"type\":\"bar\"},{\"alignmentgroup\":\"True\",\"hovertemplate\":\"País=%{x}\\u003cbr\\u003eMédia salarial Anual (USD)=%{y}\\u003cextra\\u003e\\u003c\\u002fextra\\u003e\",\"legendgroup\":\"EE\",\"marker\":{\"color\":\"#00cc96\",\"pattern\":{\"shape\":\"\"}},\"name\":\"EE\",\"offsetgroup\":\"EE\",\"orientation\":\"v\",\"showlegend\":true,\"textposition\":\"auto\",\"x\":[\"EE\"],\"xaxis\":\"x\",\"y\":[40000.0],\"yaxis\":\"y\",\"type\":\"bar\"},{\"alignmentgroup\":\"True\",\"hovertemplate\":\"País=%{x}\\u003cbr\\u003eMédia salarial Anual (USD)=%{y}\\u003cextra\\u003e\\u003c\\u002fextra\\u003e\",\"legendgroup\":\"RO\",\"marker\":{\"color\":\"#ab63fa\",\"pattern\":{\"shape\":\"\"}},\"name\":\"RO\",\"offsetgroup\":\"RO\",\"orientation\":\"v\",\"showlegend\":true,\"textposition\":\"auto\",\"x\":[\"RO\"],\"xaxis\":\"x\",\"y\":[39992.0],\"yaxis\":\"y\",\"type\":\"bar\"},{\"alignmentgroup\":\"True\",\"hovertemplate\":\"País=%{x}\\u003cbr\\u003eMédia salarial Anual (USD)=%{y}\\u003cextra\\u003e\\u003c\\u002fextra\\u003e\",\"legendgroup\":\"TR\",\"marker\":{\"color\":\"#FFA15A\",\"pattern\":{\"shape\":\"\"}},\"name\":\"TR\",\"offsetgroup\":\"TR\",\"orientation\":\"v\",\"showlegend\":true,\"textposition\":\"auto\",\"x\":[\"TR\"],\"xaxis\":\"x\",\"y\":[34924.0],\"yaxis\":\"y\",\"type\":\"bar\"},{\"alignmentgroup\":\"True\",\"hovertemplate\":\"País=%{x}\\u003cbr\\u003eMédia salarial Anual (USD)=%{y}\\u003cextra\\u003e\\u003c\\u002fextra\\u003e\",\"legendgroup\":\"IN\",\"marker\":{\"color\":\"#19d3f3\",\"pattern\":{\"shape\":\"\"}},\"name\":\"IN\",\"offsetgroup\":\"IN\",\"orientation\":\"v\",\"showlegend\":true,\"textposition\":\"auto\",\"x\":[\"IN\"],\"xaxis\":\"x\",\"y\":[34404.0],\"yaxis\":\"y\",\"type\":\"bar\"},{\"alignmentgroup\":\"True\",\"hovertemplate\":\"País=%{x}\\u003cbr\\u003eMédia salarial Anual (USD)=%{y}\\u003cextra\\u003e\\u003c\\u002fextra\\u003e\",\"legendgroup\":\"BR\",\"marker\":{\"color\":\"#FF6692\",\"pattern\":{\"shape\":\"\"}},\"name\":\"BR\",\"offsetgroup\":\"BR\",\"orientation\":\"v\",\"showlegend\":true,\"textposition\":\"auto\",\"x\":[\"BR\"],\"xaxis\":\"x\",\"y\":[34000.0],\"yaxis\":\"y\",\"type\":\"bar\"},{\"alignmentgroup\":\"True\",\"hovertemplate\":\"País=%{x}\\u003cbr\\u003eMédia salarial Anual (USD)=%{y}\\u003cextra\\u003e\\u003c\\u002fextra\\u003e\",\"legendgroup\":\"TH\",\"marker\":{\"color\":\"#B6E880\",\"pattern\":{\"shape\":\"\"}},\"name\":\"TH\",\"offsetgroup\":\"TH\",\"orientation\":\"v\",\"showlegend\":true,\"textposition\":\"auto\",\"x\":[\"TH\"],\"xaxis\":\"x\",\"y\":[26957.0],\"yaxis\":\"y\",\"type\":\"bar\"},{\"alignmentgroup\":\"True\",\"hovertemplate\":\"País=%{x}\\u003cbr\\u003eMédia salarial Anual (USD)=%{y}\\u003cextra\\u003e\\u003c\\u002fextra\\u003e\",\"legendgroup\":\"SK\",\"marker\":{\"color\":\"#FF97FF\",\"pattern\":{\"shape\":\"\"}},\"name\":\"SK\",\"offsetgroup\":\"SK\",\"orientation\":\"v\",\"showlegend\":true,\"textposition\":\"auto\",\"x\":[\"SK\"],\"xaxis\":\"x\",\"y\":[26666.0],\"yaxis\":\"y\",\"type\":\"bar\"},{\"alignmentgroup\":\"True\",\"hovertemplate\":\"País=%{x}\\u003cbr\\u003eMédia salarial Anual (USD)=%{y}\\u003cextra\\u003e\\u003c\\u002fextra\\u003e\",\"legendgroup\":\"RS\",\"marker\":{\"color\":\"#FECB52\",\"pattern\":{\"shape\":\"\"}},\"name\":\"RS\",\"offsetgroup\":\"RS\",\"orientation\":\"v\",\"showlegend\":true,\"textposition\":\"auto\",\"x\":[\"RS\"],\"xaxis\":\"x\",\"y\":[25532.0],\"yaxis\":\"y\",\"type\":\"bar\"},{\"alignmentgroup\":\"True\",\"hovertemplate\":\"País=%{x}\\u003cbr\\u003eMédia salarial Anual (USD)=%{y}\\u003cextra\\u003e\\u003c\\u002fextra\\u003e\",\"legendgroup\":\"HU\",\"marker\":{\"color\":\"#636efa\",\"pattern\":{\"shape\":\"\"}},\"name\":\"HU\",\"offsetgroup\":\"HU\",\"orientation\":\"v\",\"showlegend\":true,\"textposition\":\"auto\",\"x\":[\"HU\"],\"xaxis\":\"x\",\"y\":[21162.0],\"yaxis\":\"y\",\"type\":\"bar\"},{\"alignmentgroup\":\"True\",\"hovertemplate\":\"País=%{x}\\u003cbr\\u003eMédia salarial Anual (USD)=%{y}\\u003cextra\\u003e\\u003c\\u002fextra\\u003e\",\"legendgroup\":\"PK\",\"marker\":{\"color\":\"#EF553B\",\"pattern\":{\"shape\":\"\"}},\"name\":\"PK\",\"offsetgroup\":\"PK\",\"orientation\":\"v\",\"showlegend\":true,\"textposition\":\"auto\",\"x\":[\"PK\"],\"xaxis\":\"x\",\"y\":[21000.0],\"yaxis\":\"y\",\"type\":\"bar\"},{\"alignmentgroup\":\"True\",\"hovertemplate\":\"País=%{x}\\u003cbr\\u003eMédia salarial Anual (USD)=%{y}\\u003cextra\\u003e\\u003c\\u002fextra\\u003e\",\"legendgroup\":\"TW\",\"marker\":{\"color\":\"#00cc96\",\"pattern\":{\"shape\":\"\"}},\"name\":\"TW\",\"offsetgroup\":\"TW\",\"orientation\":\"v\",\"showlegend\":true,\"textposition\":\"auto\",\"x\":[\"TW\"],\"xaxis\":\"x\",\"y\":[17282.5],\"yaxis\":\"y\",\"type\":\"bar\"},{\"alignmentgroup\":\"True\",\"hovertemplate\":\"País=%{x}\\u003cbr\\u003eMédia salarial Anual (USD)=%{y}\\u003cextra\\u003e\\u003c\\u002fextra\\u003e\",\"legendgroup\":\"EC\",\"marker\":{\"color\":\"#ab63fa\",\"pattern\":{\"shape\":\"\"}},\"name\":\"EC\",\"offsetgroup\":\"EC\",\"orientation\":\"v\",\"showlegend\":true,\"textposition\":\"auto\",\"x\":[\"EC\"],\"xaxis\":\"x\",\"y\":[16000.0],\"yaxis\":\"y\",\"type\":\"bar\"}],                        {\"template\":{\"data\":{\"histogram2dcontour\":[{\"type\":\"histogram2dcontour\",\"colorbar\":{\"outlinewidth\":0,\"ticks\":\"\"},\"colorscale\":[[0.0,\"#0d0887\"],[0.1111111111111111,\"#46039f\"],[0.2222222222222222,\"#7201a8\"],[0.3333333333333333,\"#9c179e\"],[0.4444444444444444,\"#bd3786\"],[0.5555555555555556,\"#d8576b\"],[0.6666666666666666,\"#ed7953\"],[0.7777777777777778,\"#fb9f3a\"],[0.8888888888888888,\"#fdca26\"],[1.0,\"#f0f921\"]]}],\"choropleth\":[{\"type\":\"choropleth\",\"colorbar\":{\"outlinewidth\":0,\"ticks\":\"\"}}],\"histogram2d\":[{\"type\":\"histogram2d\",\"colorbar\":{\"outlinewidth\":0,\"ticks\":\"\"},\"colorscale\":[[0.0,\"#0d0887\"],[0.1111111111111111,\"#46039f\"],[0.2222222222222222,\"#7201a8\"],[0.3333333333333333,\"#9c179e\"],[0.4444444444444444,\"#bd3786\"],[0.5555555555555556,\"#d8576b\"],[0.6666666666666666,\"#ed7953\"],[0.7777777777777778,\"#fb9f3a\"],[0.8888888888888888,\"#fdca26\"],[1.0,\"#f0f921\"]]}],\"heatmap\":[{\"type\":\"heatmap\",\"colorbar\":{\"outlinewidth\":0,\"ticks\":\"\"},\"colorscale\":[[0.0,\"#0d0887\"],[0.1111111111111111,\"#46039f\"],[0.2222222222222222,\"#7201a8\"],[0.3333333333333333,\"#9c179e\"],[0.4444444444444444,\"#bd3786\"],[0.5555555555555556,\"#d8576b\"],[0.6666666666666666,\"#ed7953\"],[0.7777777777777778,\"#fb9f3a\"],[0.8888888888888888,\"#fdca26\"],[1.0,\"#f0f921\"]]}],\"heatmapgl\":[{\"type\":\"heatmapgl\",\"colorbar\":{\"outlinewidth\":0,\"ticks\":\"\"},\"colorscale\":[[0.0,\"#0d0887\"],[0.1111111111111111,\"#46039f\"],[0.2222222222222222,\"#7201a8\"],[0.3333333333333333,\"#9c179e\"],[0.4444444444444444,\"#bd3786\"],[0.5555555555555556,\"#d8576b\"],[0.6666666666666666,\"#ed7953\"],[0.7777777777777778,\"#fb9f3a\"],[0.8888888888888888,\"#fdca26\"],[1.0,\"#f0f921\"]]}],\"contourcarpet\":[{\"type\":\"contourcarpet\",\"colorbar\":{\"outlinewidth\":0,\"ticks\":\"\"}}],\"contour\":[{\"type\":\"contour\",\"colorbar\":{\"outlinewidth\":0,\"ticks\":\"\"},\"colorscale\":[[0.0,\"#0d0887\"],[0.1111111111111111,\"#46039f\"],[0.2222222222222222,\"#7201a8\"],[0.3333333333333333,\"#9c179e\"],[0.4444444444444444,\"#bd3786\"],[0.5555555555555556,\"#d8576b\"],[0.6666666666666666,\"#ed7953\"],[0.7777777777777778,\"#fb9f3a\"],[0.8888888888888888,\"#fdca26\"],[1.0,\"#f0f921\"]]}],\"surface\":[{\"type\":\"surface\",\"colorbar\":{\"outlinewidth\":0,\"ticks\":\"\"},\"colorscale\":[[0.0,\"#0d0887\"],[0.1111111111111111,\"#46039f\"],[0.2222222222222222,\"#7201a8\"],[0.3333333333333333,\"#9c179e\"],[0.4444444444444444,\"#bd3786\"],[0.5555555555555556,\"#d8576b\"],[0.6666666666666666,\"#ed7953\"],[0.7777777777777778,\"#fb9f3a\"],[0.8888888888888888,\"#fdca26\"],[1.0,\"#f0f921\"]]}],\"mesh3d\":[{\"type\":\"mesh3d\",\"colorbar\":{\"outlinewidth\":0,\"ticks\":\"\"}}],\"scatter\":[{\"fillpattern\":{\"fillmode\":\"overlay\",\"size\":10,\"solidity\":0.2},\"type\":\"scatter\"}],\"parcoords\":[{\"type\":\"parcoords\",\"line\":{\"colorbar\":{\"outlinewidth\":0,\"ticks\":\"\"}}}],\"scatterpolargl\":[{\"type\":\"scatterpolargl\",\"marker\":{\"colorbar\":{\"outlinewidth\":0,\"ticks\":\"\"}}}],\"bar\":[{\"error_x\":{\"color\":\"#2a3f5f\"},\"error_y\":{\"color\":\"#2a3f5f\"},\"marker\":{\"line\":{\"color\":\"#E5ECF6\",\"width\":0.5},\"pattern\":{\"fillmode\":\"overlay\",\"size\":10,\"solidity\":0.2}},\"type\":\"bar\"}],\"scattergeo\":[{\"type\":\"scattergeo\",\"marker\":{\"colorbar\":{\"outlinewidth\":0,\"ticks\":\"\"}}}],\"scatterpolar\":[{\"type\":\"scatterpolar\",\"marker\":{\"colorbar\":{\"outlinewidth\":0,\"ticks\":\"\"}}}],\"histogram\":[{\"marker\":{\"pattern\":{\"fillmode\":\"overlay\",\"size\":10,\"solidity\":0.2}},\"type\":\"histogram\"}],\"scattergl\":[{\"type\":\"scattergl\",\"marker\":{\"colorbar\":{\"outlinewidth\":0,\"ticks\":\"\"}}}],\"scatter3d\":[{\"type\":\"scatter3d\",\"line\":{\"colorbar\":{\"outlinewidth\":0,\"ticks\":\"\"}},\"marker\":{\"colorbar\":{\"outlinewidth\":0,\"ticks\":\"\"}}}],\"scattermapbox\":[{\"type\":\"scattermapbox\",\"marker\":{\"colorbar\":{\"outlinewidth\":0,\"ticks\":\"\"}}}],\"scatterternary\":[{\"type\":\"scatterternary\",\"marker\":{\"colorbar\":{\"outlinewidth\":0,\"ticks\":\"\"}}}],\"scattercarpet\":[{\"type\":\"scattercarpet\",\"marker\":{\"colorbar\":{\"outlinewidth\":0,\"ticks\":\"\"}}}],\"carpet\":[{\"aaxis\":{\"endlinecolor\":\"#2a3f5f\",\"gridcolor\":\"white\",\"linecolor\":\"white\",\"minorgridcolor\":\"white\",\"startlinecolor\":\"#2a3f5f\"},\"baxis\":{\"endlinecolor\":\"#2a3f5f\",\"gridcolor\":\"white\",\"linecolor\":\"white\",\"minorgridcolor\":\"white\",\"startlinecolor\":\"#2a3f5f\"},\"type\":\"carpet\"}],\"table\":[{\"cells\":{\"fill\":{\"color\":\"#EBF0F8\"},\"line\":{\"color\":\"white\"}},\"header\":{\"fill\":{\"color\":\"#C8D4E3\"},\"line\":{\"color\":\"white\"}},\"type\":\"table\"}],\"barpolar\":[{\"marker\":{\"line\":{\"color\":\"#E5ECF6\",\"width\":0.5},\"pattern\":{\"fillmode\":\"overlay\",\"size\":10,\"solidity\":0.2}},\"type\":\"barpolar\"}],\"pie\":[{\"automargin\":true,\"type\":\"pie\"}]},\"layout\":{\"autotypenumbers\":\"strict\",\"colorway\":[\"#636efa\",\"#EF553B\",\"#00cc96\",\"#ab63fa\",\"#FFA15A\",\"#19d3f3\",\"#FF6692\",\"#B6E880\",\"#FF97FF\",\"#FECB52\"],\"font\":{\"color\":\"#2a3f5f\"},\"hovermode\":\"closest\",\"hoverlabel\":{\"align\":\"left\"},\"paper_bgcolor\":\"white\",\"plot_bgcolor\":\"#E5ECF6\",\"polar\":{\"bgcolor\":\"#E5ECF6\",\"angularaxis\":{\"gridcolor\":\"white\",\"linecolor\":\"white\",\"ticks\":\"\"},\"radialaxis\":{\"gridcolor\":\"white\",\"linecolor\":\"white\",\"ticks\":\"\"}},\"ternary\":{\"bgcolor\":\"#E5ECF6\",\"aaxis\":{\"gridcolor\":\"white\",\"linecolor\":\"white\",\"ticks\":\"\"},\"baxis\":{\"gridcolor\":\"white\",\"linecolor\":\"white\",\"ticks\":\"\"},\"caxis\":{\"gridcolor\":\"white\",\"linecolor\":\"white\",\"ticks\":\"\"}},\"coloraxis\":{\"colorbar\":{\"outlinewidth\":0,\"ticks\":\"\"}},\"colorscale\":{\"sequential\":[[0.0,\"#0d0887\"],[0.1111111111111111,\"#46039f\"],[0.2222222222222222,\"#7201a8\"],[0.3333333333333333,\"#9c179e\"],[0.4444444444444444,\"#bd3786\"],[0.5555555555555556,\"#d8576b\"],[0.6666666666666666,\"#ed7953\"],[0.7777777777777778,\"#fb9f3a\"],[0.8888888888888888,\"#fdca26\"],[1.0,\"#f0f921\"]],\"sequentialminus\":[[0.0,\"#0d0887\"],[0.1111111111111111,\"#46039f\"],[0.2222222222222222,\"#7201a8\"],[0.3333333333333333,\"#9c179e\"],[0.4444444444444444,\"#bd3786\"],[0.5555555555555556,\"#d8576b\"],[0.6666666666666666,\"#ed7953\"],[0.7777777777777778,\"#fb9f3a\"],[0.8888888888888888,\"#fdca26\"],[1.0,\"#f0f921\"]],\"diverging\":[[0,\"#8e0152\"],[0.1,\"#c51b7d\"],[0.2,\"#de77ae\"],[0.3,\"#f1b6da\"],[0.4,\"#fde0ef\"],[0.5,\"#f7f7f7\"],[0.6,\"#e6f5d0\"],[0.7,\"#b8e186\"],[0.8,\"#7fbc41\"],[0.9,\"#4d9221\"],[1,\"#276419\"]]},\"xaxis\":{\"gridcolor\":\"white\",\"linecolor\":\"white\",\"ticks\":\"\",\"title\":{\"standoff\":15},\"zerolinecolor\":\"white\",\"automargin\":true,\"zerolinewidth\":2},\"yaxis\":{\"gridcolor\":\"white\",\"linecolor\":\"white\",\"ticks\":\"\",\"title\":{\"standoff\":15},\"zerolinecolor\":\"white\",\"automargin\":true,\"zerolinewidth\":2},\"scene\":{\"xaxis\":{\"backgroundcolor\":\"#E5ECF6\",\"gridcolor\":\"white\",\"linecolor\":\"white\",\"showbackground\":true,\"ticks\":\"\",\"zerolinecolor\":\"white\",\"gridwidth\":2},\"yaxis\":{\"backgroundcolor\":\"#E5ECF6\",\"gridcolor\":\"white\",\"linecolor\":\"white\",\"showbackground\":true,\"ticks\":\"\",\"zerolinecolor\":\"white\",\"gridwidth\":2},\"zaxis\":{\"backgroundcolor\":\"#E5ECF6\",\"gridcolor\":\"white\",\"linecolor\":\"white\",\"showbackground\":true,\"ticks\":\"\",\"zerolinecolor\":\"white\",\"gridwidth\":2}},\"shapedefaults\":{\"line\":{\"color\":\"#2a3f5f\"}},\"annotationdefaults\":{\"arrowcolor\":\"#2a3f5f\",\"arrowhead\":0,\"arrowwidth\":1},\"geo\":{\"bgcolor\":\"white\",\"landcolor\":\"#E5ECF6\",\"subunitcolor\":\"white\",\"showland\":true,\"showlakes\":true,\"lakecolor\":\"white\"},\"title\":{\"x\":0.05},\"mapbox\":{\"style\":\"light\"}}},\"xaxis\":{\"anchor\":\"y\",\"domain\":[0.0,1.0],\"title\":{\"text\":\"País\"},\"categoryorder\":\"array\",\"categoryarray\":[\"US\",\"BG\",\"SG\",\"JP\",\"CA\",\"EG\",\"CH\",\"NZ\",\"DO\",\"AU\",\"DZ\",\"IT\",\"KR\",\"NO\",\"SE\",\"PT\",\"UA\",\"IE\",\"MX\",\"DE\",\"PH\",\"GB\",\"PL\",\"UZ\",\"NL\",\"RU\",\"BE\",\"HK\",\"CY\",\"LT\",\"FR\",\"LV\",\"AD\",\"NG\",\"KE\",\"AT\",\"AR\",\"ZA\",\"ES\",\"GR\",\"CL\",\"FI\",\"EE\",\"RO\",\"TR\",\"IN\",\"BR\",\"TH\",\"SK\",\"RS\",\"HU\",\"PK\",\"TW\",\"EC\"]},\"yaxis\":{\"anchor\":\"x\",\"domain\":[0.0,1.0],\"title\":{\"text\":\"Média salarial Anual (USD)\"}},\"legend\":{\"title\":{\"text\":\"País\"},\"tracegroupgap\":0},\"title\":{\"text\":\"Média salarial por país\"},\"barmode\":\"relative\"},                        {\"responsive\": true}                    ).then(function(){\n",
              "                            \n",
              "var gd = document.getElementById('1d4a4d9a-7571-46e6-bef6-f2cf2799c480');\n",
              "var x = new MutationObserver(function (mutations, observer) {{\n",
              "        var display = window.getComputedStyle(gd).display;\n",
              "        if (!display || display === 'none') {{\n",
              "            console.log([gd, 'removed!']);\n",
              "            Plotly.purge(gd);\n",
              "            observer.disconnect();\n",
              "        }}\n",
              "}});\n",
              "\n",
              "// Listen for the removal of the full notebook cells\n",
              "var notebookContainer = gd.closest('#notebook-container');\n",
              "if (notebookContainer) {{\n",
              "    x.observe(notebookContainer, {childList: true});\n",
              "}}\n",
              "\n",
              "// Listen for the clearing of the current output cell\n",
              "var outputEl = gd.closest('.output');\n",
              "if (outputEl) {{\n",
              "    x.observe(outputEl, {childList: true});\n",
              "}}\n",
              "\n",
              "                        })                };                            </script>        </div>\n",
              "</body>\n",
              "</html>"
            ]
          },
          "metadata": {}
        }
      ]
    },
    {
      "cell_type": "code",
      "source": [
        "# Gráfico interativo média salarial por continente\n",
        "\n",
        "fig = px.bar(median_salary_by_continent,\n",
        "             x='continent',\n",
        "             y='usd',\n",
        "             title='Média salarial por continente',\n",
        "             color='continent',\n",
        "             labels={'continent': 'Continente', 'usd': 'Média salarial Anual (USD)'}\n",
        "             )\n",
        "\n",
        "fig.show()"
      ],
      "metadata": {
        "colab": {
          "base_uri": "https://localhost:8080/",
          "height": 542
        },
        "id": "RMWUiiRYN8cN",
        "outputId": "2362537b-c86d-4c23-86ed-346a594d3a88"
      },
      "execution_count": 131,
      "outputs": [
        {
          "output_type": "display_data",
          "data": {
            "text/html": [
              "<html>\n",
              "<head><meta charset=\"utf-8\" /></head>\n",
              "<body>\n",
              "    <div>            <script src=\"https://cdnjs.cloudflare.com/ajax/libs/mathjax/2.7.5/MathJax.js?config=TeX-AMS-MML_SVG\"></script><script type=\"text/javascript\">if (window.MathJax && window.MathJax.Hub && window.MathJax.Hub.Config) {window.MathJax.Hub.Config({SVG: {font: \"STIX-Web\"}});}</script>                <script type=\"text/javascript\">window.PlotlyConfig = {MathJaxConfig: 'local'};</script>\n",
              "        <script charset=\"utf-8\" src=\"https://cdn.plot.ly/plotly-2.35.2.min.js\"></script>                <div id=\"71a86f15-8820-4664-9141-5fca5c529f15\" class=\"plotly-graph-div\" style=\"height:525px; width:100%;\"></div>            <script type=\"text/javascript\">                                    window.PLOTLYENV=window.PLOTLYENV || {};                                    if (document.getElementById(\"71a86f15-8820-4664-9141-5fca5c529f15\")) {                    Plotly.newPlot(                        \"71a86f15-8820-4664-9141-5fca5c529f15\",                        [{\"alignmentgroup\":\"True\",\"hovertemplate\":\"Continente=%{x}\\u003cbr\\u003eMédia salarial Anual (USD)=%{y}\\u003cextra\\u003e\\u003c\\u002fextra\\u003e\",\"legendgroup\":\"North America\",\"marker\":{\"color\":\"#636efa\",\"pattern\":{\"shape\":\"\"}},\"name\":\"North America\",\"offsetgroup\":\"North America\",\"orientation\":\"v\",\"showlegend\":true,\"textposition\":\"auto\",\"x\":[\"North America\"],\"xaxis\":\"x\",\"y\":[155376.0],\"yaxis\":\"y\",\"type\":\"bar\"},{\"alignmentgroup\":\"True\",\"hovertemplate\":\"Continente=%{x}\\u003cbr\\u003eMédia salarial Anual (USD)=%{y}\\u003cextra\\u003e\\u003c\\u002fextra\\u003e\",\"legendgroup\":\"Oceania\",\"marker\":{\"color\":\"#EF553B\",\"pattern\":{\"shape\":\"\"}},\"name\":\"Oceania\",\"offsetgroup\":\"Oceania\",\"orientation\":\"v\",\"showlegend\":true,\"textposition\":\"auto\",\"x\":[\"Oceania\"],\"xaxis\":\"x\",\"y\":[109496.0],\"yaxis\":\"y\",\"type\":\"bar\"},{\"alignmentgroup\":\"True\",\"hovertemplate\":\"Continente=%{x}\\u003cbr\\u003eMédia salarial Anual (USD)=%{y}\\u003cextra\\u003e\\u003c\\u002fextra\\u003e\",\"legendgroup\":\"Africa\",\"marker\":{\"color\":\"#00cc96\",\"pattern\":{\"shape\":\"\"}},\"name\":\"Africa\",\"offsetgroup\":\"Africa\",\"orientation\":\"v\",\"showlegend\":true,\"textposition\":\"auto\",\"x\":[\"Africa\"],\"xaxis\":\"x\",\"y\":[96600.0],\"yaxis\":\"y\",\"type\":\"bar\"},{\"alignmentgroup\":\"True\",\"hovertemplate\":\"Continente=%{x}\\u003cbr\\u003eMédia salarial Anual (USD)=%{y}\\u003cextra\\u003e\\u003c\\u002fextra\\u003e\",\"legendgroup\":\"Europe\",\"marker\":{\"color\":\"#ab63fa\",\"pattern\":{\"shape\":\"\"}},\"name\":\"Europe\",\"offsetgroup\":\"Europe\",\"orientation\":\"v\",\"showlegend\":true,\"textposition\":\"auto\",\"x\":[\"Europe\"],\"xaxis\":\"x\",\"y\":[66666.0],\"yaxis\":\"y\",\"type\":\"bar\"},{\"alignmentgroup\":\"True\",\"hovertemplate\":\"Continente=%{x}\\u003cbr\\u003eMédia salarial Anual (USD)=%{y}\\u003cextra\\u003e\\u003c\\u002fextra\\u003e\",\"legendgroup\":\"Asia\",\"marker\":{\"color\":\"#FFA15A\",\"pattern\":{\"shape\":\"\"}},\"name\":\"Asia\",\"offsetgroup\":\"Asia\",\"orientation\":\"v\",\"showlegend\":true,\"textposition\":\"auto\",\"x\":[\"Asia\"],\"xaxis\":\"x\",\"y\":[48019.0],\"yaxis\":\"y\",\"type\":\"bar\"},{\"alignmentgroup\":\"True\",\"hovertemplate\":\"Continente=%{x}\\u003cbr\\u003eMédia salarial Anual (USD)=%{y}\\u003cextra\\u003e\\u003c\\u002fextra\\u003e\",\"legendgroup\":\"South America\",\"marker\":{\"color\":\"#19d3f3\",\"pattern\":{\"shape\":\"\"}},\"name\":\"South America\",\"offsetgroup\":\"South America\",\"orientation\":\"v\",\"showlegend\":true,\"textposition\":\"auto\",\"x\":[\"South America\"],\"xaxis\":\"x\",\"y\":[37019.0],\"yaxis\":\"y\",\"type\":\"bar\"}],                        {\"template\":{\"data\":{\"histogram2dcontour\":[{\"type\":\"histogram2dcontour\",\"colorbar\":{\"outlinewidth\":0,\"ticks\":\"\"},\"colorscale\":[[0.0,\"#0d0887\"],[0.1111111111111111,\"#46039f\"],[0.2222222222222222,\"#7201a8\"],[0.3333333333333333,\"#9c179e\"],[0.4444444444444444,\"#bd3786\"],[0.5555555555555556,\"#d8576b\"],[0.6666666666666666,\"#ed7953\"],[0.7777777777777778,\"#fb9f3a\"],[0.8888888888888888,\"#fdca26\"],[1.0,\"#f0f921\"]]}],\"choropleth\":[{\"type\":\"choropleth\",\"colorbar\":{\"outlinewidth\":0,\"ticks\":\"\"}}],\"histogram2d\":[{\"type\":\"histogram2d\",\"colorbar\":{\"outlinewidth\":0,\"ticks\":\"\"},\"colorscale\":[[0.0,\"#0d0887\"],[0.1111111111111111,\"#46039f\"],[0.2222222222222222,\"#7201a8\"],[0.3333333333333333,\"#9c179e\"],[0.4444444444444444,\"#bd3786\"],[0.5555555555555556,\"#d8576b\"],[0.6666666666666666,\"#ed7953\"],[0.7777777777777778,\"#fb9f3a\"],[0.8888888888888888,\"#fdca26\"],[1.0,\"#f0f921\"]]}],\"heatmap\":[{\"type\":\"heatmap\",\"colorbar\":{\"outlinewidth\":0,\"ticks\":\"\"},\"colorscale\":[[0.0,\"#0d0887\"],[0.1111111111111111,\"#46039f\"],[0.2222222222222222,\"#7201a8\"],[0.3333333333333333,\"#9c179e\"],[0.4444444444444444,\"#bd3786\"],[0.5555555555555556,\"#d8576b\"],[0.6666666666666666,\"#ed7953\"],[0.7777777777777778,\"#fb9f3a\"],[0.8888888888888888,\"#fdca26\"],[1.0,\"#f0f921\"]]}],\"heatmapgl\":[{\"type\":\"heatmapgl\",\"colorbar\":{\"outlinewidth\":0,\"ticks\":\"\"},\"colorscale\":[[0.0,\"#0d0887\"],[0.1111111111111111,\"#46039f\"],[0.2222222222222222,\"#7201a8\"],[0.3333333333333333,\"#9c179e\"],[0.4444444444444444,\"#bd3786\"],[0.5555555555555556,\"#d8576b\"],[0.6666666666666666,\"#ed7953\"],[0.7777777777777778,\"#fb9f3a\"],[0.8888888888888888,\"#fdca26\"],[1.0,\"#f0f921\"]]}],\"contourcarpet\":[{\"type\":\"contourcarpet\",\"colorbar\":{\"outlinewidth\":0,\"ticks\":\"\"}}],\"contour\":[{\"type\":\"contour\",\"colorbar\":{\"outlinewidth\":0,\"ticks\":\"\"},\"colorscale\":[[0.0,\"#0d0887\"],[0.1111111111111111,\"#46039f\"],[0.2222222222222222,\"#7201a8\"],[0.3333333333333333,\"#9c179e\"],[0.4444444444444444,\"#bd3786\"],[0.5555555555555556,\"#d8576b\"],[0.6666666666666666,\"#ed7953\"],[0.7777777777777778,\"#fb9f3a\"],[0.8888888888888888,\"#fdca26\"],[1.0,\"#f0f921\"]]}],\"surface\":[{\"type\":\"surface\",\"colorbar\":{\"outlinewidth\":0,\"ticks\":\"\"},\"colorscale\":[[0.0,\"#0d0887\"],[0.1111111111111111,\"#46039f\"],[0.2222222222222222,\"#7201a8\"],[0.3333333333333333,\"#9c179e\"],[0.4444444444444444,\"#bd3786\"],[0.5555555555555556,\"#d8576b\"],[0.6666666666666666,\"#ed7953\"],[0.7777777777777778,\"#fb9f3a\"],[0.8888888888888888,\"#fdca26\"],[1.0,\"#f0f921\"]]}],\"mesh3d\":[{\"type\":\"mesh3d\",\"colorbar\":{\"outlinewidth\":0,\"ticks\":\"\"}}],\"scatter\":[{\"fillpattern\":{\"fillmode\":\"overlay\",\"size\":10,\"solidity\":0.2},\"type\":\"scatter\"}],\"parcoords\":[{\"type\":\"parcoords\",\"line\":{\"colorbar\":{\"outlinewidth\":0,\"ticks\":\"\"}}}],\"scatterpolargl\":[{\"type\":\"scatterpolargl\",\"marker\":{\"colorbar\":{\"outlinewidth\":0,\"ticks\":\"\"}}}],\"bar\":[{\"error_x\":{\"color\":\"#2a3f5f\"},\"error_y\":{\"color\":\"#2a3f5f\"},\"marker\":{\"line\":{\"color\":\"#E5ECF6\",\"width\":0.5},\"pattern\":{\"fillmode\":\"overlay\",\"size\":10,\"solidity\":0.2}},\"type\":\"bar\"}],\"scattergeo\":[{\"type\":\"scattergeo\",\"marker\":{\"colorbar\":{\"outlinewidth\":0,\"ticks\":\"\"}}}],\"scatterpolar\":[{\"type\":\"scatterpolar\",\"marker\":{\"colorbar\":{\"outlinewidth\":0,\"ticks\":\"\"}}}],\"histogram\":[{\"marker\":{\"pattern\":{\"fillmode\":\"overlay\",\"size\":10,\"solidity\":0.2}},\"type\":\"histogram\"}],\"scattergl\":[{\"type\":\"scattergl\",\"marker\":{\"colorbar\":{\"outlinewidth\":0,\"ticks\":\"\"}}}],\"scatter3d\":[{\"type\":\"scatter3d\",\"line\":{\"colorbar\":{\"outlinewidth\":0,\"ticks\":\"\"}},\"marker\":{\"colorbar\":{\"outlinewidth\":0,\"ticks\":\"\"}}}],\"scattermapbox\":[{\"type\":\"scattermapbox\",\"marker\":{\"colorbar\":{\"outlinewidth\":0,\"ticks\":\"\"}}}],\"scatterternary\":[{\"type\":\"scatterternary\",\"marker\":{\"colorbar\":{\"outlinewidth\":0,\"ticks\":\"\"}}}],\"scattercarpet\":[{\"type\":\"scattercarpet\",\"marker\":{\"colorbar\":{\"outlinewidth\":0,\"ticks\":\"\"}}}],\"carpet\":[{\"aaxis\":{\"endlinecolor\":\"#2a3f5f\",\"gridcolor\":\"white\",\"linecolor\":\"white\",\"minorgridcolor\":\"white\",\"startlinecolor\":\"#2a3f5f\"},\"baxis\":{\"endlinecolor\":\"#2a3f5f\",\"gridcolor\":\"white\",\"linecolor\":\"white\",\"minorgridcolor\":\"white\",\"startlinecolor\":\"#2a3f5f\"},\"type\":\"carpet\"}],\"table\":[{\"cells\":{\"fill\":{\"color\":\"#EBF0F8\"},\"line\":{\"color\":\"white\"}},\"header\":{\"fill\":{\"color\":\"#C8D4E3\"},\"line\":{\"color\":\"white\"}},\"type\":\"table\"}],\"barpolar\":[{\"marker\":{\"line\":{\"color\":\"#E5ECF6\",\"width\":0.5},\"pattern\":{\"fillmode\":\"overlay\",\"size\":10,\"solidity\":0.2}},\"type\":\"barpolar\"}],\"pie\":[{\"automargin\":true,\"type\":\"pie\"}]},\"layout\":{\"autotypenumbers\":\"strict\",\"colorway\":[\"#636efa\",\"#EF553B\",\"#00cc96\",\"#ab63fa\",\"#FFA15A\",\"#19d3f3\",\"#FF6692\",\"#B6E880\",\"#FF97FF\",\"#FECB52\"],\"font\":{\"color\":\"#2a3f5f\"},\"hovermode\":\"closest\",\"hoverlabel\":{\"align\":\"left\"},\"paper_bgcolor\":\"white\",\"plot_bgcolor\":\"#E5ECF6\",\"polar\":{\"bgcolor\":\"#E5ECF6\",\"angularaxis\":{\"gridcolor\":\"white\",\"linecolor\":\"white\",\"ticks\":\"\"},\"radialaxis\":{\"gridcolor\":\"white\",\"linecolor\":\"white\",\"ticks\":\"\"}},\"ternary\":{\"bgcolor\":\"#E5ECF6\",\"aaxis\":{\"gridcolor\":\"white\",\"linecolor\":\"white\",\"ticks\":\"\"},\"baxis\":{\"gridcolor\":\"white\",\"linecolor\":\"white\",\"ticks\":\"\"},\"caxis\":{\"gridcolor\":\"white\",\"linecolor\":\"white\",\"ticks\":\"\"}},\"coloraxis\":{\"colorbar\":{\"outlinewidth\":0,\"ticks\":\"\"}},\"colorscale\":{\"sequential\":[[0.0,\"#0d0887\"],[0.1111111111111111,\"#46039f\"],[0.2222222222222222,\"#7201a8\"],[0.3333333333333333,\"#9c179e\"],[0.4444444444444444,\"#bd3786\"],[0.5555555555555556,\"#d8576b\"],[0.6666666666666666,\"#ed7953\"],[0.7777777777777778,\"#fb9f3a\"],[0.8888888888888888,\"#fdca26\"],[1.0,\"#f0f921\"]],\"sequentialminus\":[[0.0,\"#0d0887\"],[0.1111111111111111,\"#46039f\"],[0.2222222222222222,\"#7201a8\"],[0.3333333333333333,\"#9c179e\"],[0.4444444444444444,\"#bd3786\"],[0.5555555555555556,\"#d8576b\"],[0.6666666666666666,\"#ed7953\"],[0.7777777777777778,\"#fb9f3a\"],[0.8888888888888888,\"#fdca26\"],[1.0,\"#f0f921\"]],\"diverging\":[[0,\"#8e0152\"],[0.1,\"#c51b7d\"],[0.2,\"#de77ae\"],[0.3,\"#f1b6da\"],[0.4,\"#fde0ef\"],[0.5,\"#f7f7f7\"],[0.6,\"#e6f5d0\"],[0.7,\"#b8e186\"],[0.8,\"#7fbc41\"],[0.9,\"#4d9221\"],[1,\"#276419\"]]},\"xaxis\":{\"gridcolor\":\"white\",\"linecolor\":\"white\",\"ticks\":\"\",\"title\":{\"standoff\":15},\"zerolinecolor\":\"white\",\"automargin\":true,\"zerolinewidth\":2},\"yaxis\":{\"gridcolor\":\"white\",\"linecolor\":\"white\",\"ticks\":\"\",\"title\":{\"standoff\":15},\"zerolinecolor\":\"white\",\"automargin\":true,\"zerolinewidth\":2},\"scene\":{\"xaxis\":{\"backgroundcolor\":\"#E5ECF6\",\"gridcolor\":\"white\",\"linecolor\":\"white\",\"showbackground\":true,\"ticks\":\"\",\"zerolinecolor\":\"white\",\"gridwidth\":2},\"yaxis\":{\"backgroundcolor\":\"#E5ECF6\",\"gridcolor\":\"white\",\"linecolor\":\"white\",\"showbackground\":true,\"ticks\":\"\",\"zerolinecolor\":\"white\",\"gridwidth\":2},\"zaxis\":{\"backgroundcolor\":\"#E5ECF6\",\"gridcolor\":\"white\",\"linecolor\":\"white\",\"showbackground\":true,\"ticks\":\"\",\"zerolinecolor\":\"white\",\"gridwidth\":2}},\"shapedefaults\":{\"line\":{\"color\":\"#2a3f5f\"}},\"annotationdefaults\":{\"arrowcolor\":\"#2a3f5f\",\"arrowhead\":0,\"arrowwidth\":1},\"geo\":{\"bgcolor\":\"white\",\"landcolor\":\"#E5ECF6\",\"subunitcolor\":\"white\",\"showland\":true,\"showlakes\":true,\"lakecolor\":\"white\"},\"title\":{\"x\":0.05},\"mapbox\":{\"style\":\"light\"}}},\"xaxis\":{\"anchor\":\"y\",\"domain\":[0.0,1.0],\"title\":{\"text\":\"Continente\"},\"categoryorder\":\"array\",\"categoryarray\":[\"North America\",\"Oceania\",\"Africa\",\"Europe\",\"Asia\",\"South America\"]},\"yaxis\":{\"anchor\":\"x\",\"domain\":[0.0,1.0],\"title\":{\"text\":\"Média salarial Anual (USD)\"}},\"legend\":{\"title\":{\"text\":\"Continente\"},\"tracegroupgap\":0},\"title\":{\"text\":\"Média salarial por continente\"},\"barmode\":\"relative\"},                        {\"responsive\": true}                    ).then(function(){\n",
              "                            \n",
              "var gd = document.getElementById('71a86f15-8820-4664-9141-5fca5c529f15');\n",
              "var x = new MutationObserver(function (mutations, observer) {{\n",
              "        var display = window.getComputedStyle(gd).display;\n",
              "        if (!display || display === 'none') {{\n",
              "            console.log([gd, 'removed!']);\n",
              "            Plotly.purge(gd);\n",
              "            observer.disconnect();\n",
              "        }}\n",
              "}});\n",
              "\n",
              "// Listen for the removal of the full notebook cells\n",
              "var notebookContainer = gd.closest('#notebook-container');\n",
              "if (notebookContainer) {{\n",
              "    x.observe(notebookContainer, {childList: true});\n",
              "}}\n",
              "\n",
              "// Listen for the clearing of the current output cell\n",
              "var outputEl = gd.closest('.output');\n",
              "if (outputEl) {{\n",
              "    x.observe(outputEl, {childList: true});\n",
              "}}\n",
              "\n",
              "                        })                };                            </script>        </div>\n",
              "</body>\n",
              "</html>"
            ]
          },
          "metadata": {}
        }
      ]
    },
    {
      "cell_type": "code",
      "metadata": {
        "id": "9f40af8f"
      },
      "source": [
        "!pip install pycountry"
      ],
      "execution_count": null,
      "outputs": []
    },
    {
      "cell_type": "code",
      "metadata": {
        "id": "cf6bedde"
      },
      "source": [
        "import pycountry\n",
        "\n",
        "# Get the full names of the Central American countries\n",
        "central_america_codes = ['PA', 'SV', 'CR', 'HN']\n",
        "central_america_names = [pycountry.countries.get(alpha_2=code).name for code in central_america_codes]\n",
        "print(\"Full names of the Central American countries found:\")\n",
        "print(central_america_names)\n",
        "\n",
        "# Find all unique country codes in the dataset\n",
        "all_country_codes = df_limpo['residencia'].unique()\n",
        "\n",
        "# Find country codes not in the continent_map\n",
        "unmapped_countries = [code for code in all_country_codes if code not in continent_map]\n",
        "\n",
        "if len(unmapped_countries) > 0:\n",
        "    print(\"\\nThe following country codes from the dataset are not currently mapped to a continent:\")\n",
        "    print(unmapped_countries)\n",
        "    print(\"\\nAttempting to get full names for unmapped countries:\")\n",
        "    unmapped_country_names = []\n",
        "    for code in unmapped_countries:\n",
        "        country = pycountry.countries.get(alpha_2=code)\n",
        "        if country:\n",
        "            unmapped_country_names.append(f\"{code}: {country.name}\")\n",
        "        else:\n",
        "            unmapped_country_names.append(f\"{code}: Unknown\")\n",
        "    print(unmapped_country_names)\n",
        "\n",
        "else:\n",
        "    print(\"\\nAll country codes in the dataset are mapped to a continent.\")"
      ],
      "execution_count": null,
      "outputs": []
    },
    {
      "cell_type": "code",
      "metadata": {
        "id": "324a42f1"
      },
      "source": [
        "# List of Central American country codes (common ones)\n",
        "central_america_codes = ['BZ', 'CR', 'SV', 'GT', 'HN', 'NI', 'PA']\n",
        "\n",
        "# Check if any of these country codes are in the 'residencia' column of df_limpo\n",
        "present_central_america_codes = df_limpo[df_limpo['residencia'].isin(central_america_codes)]['residencia'].unique()\n",
        "\n",
        "if len(present_central_america_codes) > 0:\n",
        "    print(\"The following Central American country codes are present in the dataset:\")\n",
        "    print(present_central_america_codes)\n",
        "\n",
        "    # Check how these countries are mapped in the continent_map\n",
        "    print(\"\\nMapping of these countries in the continent_map:\")\n",
        "    for code in present_central_america_codes:\n",
        "        print(f\"{code}: {continent_map.get(code, 'Not mapped')}\")\n",
        "\n",
        "else:\n",
        "    print(\"No Central American country codes were found in the dataset.\")"
      ],
      "execution_count": null,
      "outputs": []
    },
    {
      "cell_type": "markdown",
      "source": [
        "# **Exercício refinado - Filtrando por Senioridade e Continente**"
      ],
      "metadata": {
        "id": "JjzDfT2eoD1c"
      }
    },
    {
      "cell_type": "code",
      "source": [
        "# Média salarial por país e senioridade\n",
        "media_ds_senioridade = salario_ds.groupby(['continent', 'senioridade'])['usd'].median().sort_values(ascending=False)\n",
        "\n",
        "# Agrupamento a ser exibido\n",
        "media_ds_senioridade.loc[['North America', 'South America', 'Europe', 'Asia', 'Africa', 'Oceania']] # não há Data Scientists em Central America"
      ],
      "metadata": {
        "id": "MODeU2fWOHG3"
      },
      "execution_count": null,
      "outputs": []
    },
    {
      "cell_type": "code",
      "source": [
        "# Criação gráfico Radar chart (ou Spider chart)\n",
        "\n",
        "fig = px.line_polar(media_ds_senioridade.reset_index(),\n",
        "                    r='usd',\n",
        "                    theta='senioridade',\n",
        "                    color='continent',\n",
        "                    line_close=True,\n",
        "                    title='Média salarial em USD por senioridade em cada continente',\n",
        "                    labels={'continent': 'Continentes'},\n",
        "                    )\n",
        "fig.show()"
      ],
      "metadata": {
        "colab": {
          "base_uri": "https://localhost:8080/",
          "height": 542
        },
        "id": "AmRVtvN6GhF5",
        "outputId": "45d4524e-e8e2-4a5b-8412-82a3ddfbe294"
      },
      "execution_count": 132,
      "outputs": [
        {
          "output_type": "display_data",
          "data": {
            "text/html": [
              "<html>\n",
              "<head><meta charset=\"utf-8\" /></head>\n",
              "<body>\n",
              "    <div>            <script src=\"https://cdnjs.cloudflare.com/ajax/libs/mathjax/2.7.5/MathJax.js?config=TeX-AMS-MML_SVG\"></script><script type=\"text/javascript\">if (window.MathJax && window.MathJax.Hub && window.MathJax.Hub.Config) {window.MathJax.Hub.Config({SVG: {font: \"STIX-Web\"}});}</script>                <script type=\"text/javascript\">window.PlotlyConfig = {MathJaxConfig: 'local'};</script>\n",
              "        <script charset=\"utf-8\" src=\"https://cdn.plot.ly/plotly-2.35.2.min.js\"></script>                <div id=\"cb3bbca7-4f72-48c6-92ae-39d14b495c04\" class=\"plotly-graph-div\" style=\"height:525px; width:100%;\"></div>            <script type=\"text/javascript\">                                    window.PLOTLYENV=window.PLOTLYENV || {};                                    if (document.getElementById(\"cb3bbca7-4f72-48c6-92ae-39d14b495c04\")) {                    Plotly.newPlot(                        \"cb3bbca7-4f72-48c6-92ae-39d14b495c04\",                        [{\"hovertemplate\":\"Continentes=North America\\u003cbr\\u003eusd=%{r}\\u003cbr\\u003esenioridade=%{theta}\\u003cextra\\u003e\\u003c\\u002fextra\\u003e\",\"legendgroup\":\"North America\",\"line\":{\"color\":\"#636efa\",\"dash\":\"solid\"},\"marker\":{\"symbol\":\"circle\"},\"mode\":\"lines\",\"name\":\"North America\",\"r\":[192037.0,162000.0,135000.0,102000.0,192037.0],\"showlegend\":true,\"subplot\":\"polar\",\"theta\":[\"Executivo\",\"Senior\",\"Pleno\",\"Junior\",\"Executivo\"],\"type\":\"scatterpolar\"},{\"hovertemplate\":\"Continentes=Africa\\u003cbr\\u003eusd=%{r}\\u003cbr\\u003esenioridade=%{theta}\\u003cextra\\u003e\\u003c\\u002fextra\\u003e\",\"legendgroup\":\"Africa\",\"line\":{\"color\":\"#EF553B\",\"dash\":\"solid\"},\"marker\":{\"symbol\":\"circle\"},\"mode\":\"lines\",\"name\":\"Africa\",\"r\":[134300.0,98300.0,75600.0,134300.0],\"showlegend\":true,\"subplot\":\"polar\",\"theta\":[\"Senior\",\"Junior\",\"Pleno\",\"Senior\"],\"type\":\"scatterpolar\"},{\"hovertemplate\":\"Continentes=Europe\\u003cbr\\u003eusd=%{r}\\u003cbr\\u003esenioridade=%{theta}\\u003cextra\\u003e\\u003c\\u002fextra\\u003e\",\"legendgroup\":\"Europe\",\"line\":{\"color\":\"#00cc96\",\"dash\":\"solid\"},\"marker\":{\"symbol\":\"circle\"},\"mode\":\"lines\",\"name\":\"Europe\",\"r\":[130026.0,75000.0,67256.5,43750.0,130026.0],\"showlegend\":true,\"subplot\":\"polar\",\"theta\":[\"Executivo\",\"Senior\",\"Pleno\",\"Junior\",\"Executivo\"],\"type\":\"scatterpolar\"},{\"hovertemplate\":\"Continentes=Oceania\\u003cbr\\u003eusd=%{r}\\u003cbr\\u003esenioridade=%{theta}\\u003cextra\\u003e\\u003c\\u002fextra\\u003e\",\"legendgroup\":\"Oceania\",\"line\":{\"color\":\"#ab63fa\",\"dash\":\"solid\"},\"marker\":{\"symbol\":\"circle\"},\"mode\":\"lines\",\"name\":\"Oceania\",\"r\":[126406.0,104669.0,102817.0,126406.0],\"showlegend\":true,\"subplot\":\"polar\",\"theta\":[\"Senior\",\"Junior\",\"Pleno\",\"Senior\"],\"type\":\"scatterpolar\"},{\"hovertemplate\":\"Continentes=South America\\u003cbr\\u003eusd=%{r}\\u003cbr\\u003esenioridade=%{theta}\\u003cextra\\u003e\\u003c\\u002fextra\\u003e\",\"legendgroup\":\"South America\",\"line\":{\"color\":\"#FFA15A\",\"dash\":\"solid\"},\"marker\":{\"symbol\":\"circle\"},\"mode\":\"lines\",\"name\":\"South America\",\"r\":[116550.0,34000.0,17955.0,116550.0],\"showlegend\":true,\"subplot\":\"polar\",\"theta\":[\"Senior\",\"Pleno\",\"Junior\",\"Senior\"],\"type\":\"scatterpolar\"},{\"hovertemplate\":\"Continentes=Asia\\u003cbr\\u003eusd=%{r}\\u003cbr\\u003esenioridade=%{theta}\\u003cextra\\u003e\\u003c\\u002fextra\\u003e\",\"legendgroup\":\"Asia\",\"line\":{\"color\":\"#19d3f3\",\"dash\":\"solid\"},\"marker\":{\"symbol\":\"circle\"},\"mode\":\"lines\",\"name\":\"Asia\",\"r\":[106000.0,56858.0,54094.0,28399.0,106000.0],\"showlegend\":true,\"subplot\":\"polar\",\"theta\":[\"Executivo\",\"Pleno\",\"Senior\",\"Junior\",\"Executivo\"],\"type\":\"scatterpolar\"}],                        {\"template\":{\"data\":{\"histogram2dcontour\":[{\"type\":\"histogram2dcontour\",\"colorbar\":{\"outlinewidth\":0,\"ticks\":\"\"},\"colorscale\":[[0.0,\"#0d0887\"],[0.1111111111111111,\"#46039f\"],[0.2222222222222222,\"#7201a8\"],[0.3333333333333333,\"#9c179e\"],[0.4444444444444444,\"#bd3786\"],[0.5555555555555556,\"#d8576b\"],[0.6666666666666666,\"#ed7953\"],[0.7777777777777778,\"#fb9f3a\"],[0.8888888888888888,\"#fdca26\"],[1.0,\"#f0f921\"]]}],\"choropleth\":[{\"type\":\"choropleth\",\"colorbar\":{\"outlinewidth\":0,\"ticks\":\"\"}}],\"histogram2d\":[{\"type\":\"histogram2d\",\"colorbar\":{\"outlinewidth\":0,\"ticks\":\"\"},\"colorscale\":[[0.0,\"#0d0887\"],[0.1111111111111111,\"#46039f\"],[0.2222222222222222,\"#7201a8\"],[0.3333333333333333,\"#9c179e\"],[0.4444444444444444,\"#bd3786\"],[0.5555555555555556,\"#d8576b\"],[0.6666666666666666,\"#ed7953\"],[0.7777777777777778,\"#fb9f3a\"],[0.8888888888888888,\"#fdca26\"],[1.0,\"#f0f921\"]]}],\"heatmap\":[{\"type\":\"heatmap\",\"colorbar\":{\"outlinewidth\":0,\"ticks\":\"\"},\"colorscale\":[[0.0,\"#0d0887\"],[0.1111111111111111,\"#46039f\"],[0.2222222222222222,\"#7201a8\"],[0.3333333333333333,\"#9c179e\"],[0.4444444444444444,\"#bd3786\"],[0.5555555555555556,\"#d8576b\"],[0.6666666666666666,\"#ed7953\"],[0.7777777777777778,\"#fb9f3a\"],[0.8888888888888888,\"#fdca26\"],[1.0,\"#f0f921\"]]}],\"heatmapgl\":[{\"type\":\"heatmapgl\",\"colorbar\":{\"outlinewidth\":0,\"ticks\":\"\"},\"colorscale\":[[0.0,\"#0d0887\"],[0.1111111111111111,\"#46039f\"],[0.2222222222222222,\"#7201a8\"],[0.3333333333333333,\"#9c179e\"],[0.4444444444444444,\"#bd3786\"],[0.5555555555555556,\"#d8576b\"],[0.6666666666666666,\"#ed7953\"],[0.7777777777777778,\"#fb9f3a\"],[0.8888888888888888,\"#fdca26\"],[1.0,\"#f0f921\"]]}],\"contourcarpet\":[{\"type\":\"contourcarpet\",\"colorbar\":{\"outlinewidth\":0,\"ticks\":\"\"}}],\"contour\":[{\"type\":\"contour\",\"colorbar\":{\"outlinewidth\":0,\"ticks\":\"\"},\"colorscale\":[[0.0,\"#0d0887\"],[0.1111111111111111,\"#46039f\"],[0.2222222222222222,\"#7201a8\"],[0.3333333333333333,\"#9c179e\"],[0.4444444444444444,\"#bd3786\"],[0.5555555555555556,\"#d8576b\"],[0.6666666666666666,\"#ed7953\"],[0.7777777777777778,\"#fb9f3a\"],[0.8888888888888888,\"#fdca26\"],[1.0,\"#f0f921\"]]}],\"surface\":[{\"type\":\"surface\",\"colorbar\":{\"outlinewidth\":0,\"ticks\":\"\"},\"colorscale\":[[0.0,\"#0d0887\"],[0.1111111111111111,\"#46039f\"],[0.2222222222222222,\"#7201a8\"],[0.3333333333333333,\"#9c179e\"],[0.4444444444444444,\"#bd3786\"],[0.5555555555555556,\"#d8576b\"],[0.6666666666666666,\"#ed7953\"],[0.7777777777777778,\"#fb9f3a\"],[0.8888888888888888,\"#fdca26\"],[1.0,\"#f0f921\"]]}],\"mesh3d\":[{\"type\":\"mesh3d\",\"colorbar\":{\"outlinewidth\":0,\"ticks\":\"\"}}],\"scatter\":[{\"fillpattern\":{\"fillmode\":\"overlay\",\"size\":10,\"solidity\":0.2},\"type\":\"scatter\"}],\"parcoords\":[{\"type\":\"parcoords\",\"line\":{\"colorbar\":{\"outlinewidth\":0,\"ticks\":\"\"}}}],\"scatterpolargl\":[{\"type\":\"scatterpolargl\",\"marker\":{\"colorbar\":{\"outlinewidth\":0,\"ticks\":\"\"}}}],\"bar\":[{\"error_x\":{\"color\":\"#2a3f5f\"},\"error_y\":{\"color\":\"#2a3f5f\"},\"marker\":{\"line\":{\"color\":\"#E5ECF6\",\"width\":0.5},\"pattern\":{\"fillmode\":\"overlay\",\"size\":10,\"solidity\":0.2}},\"type\":\"bar\"}],\"scattergeo\":[{\"type\":\"scattergeo\",\"marker\":{\"colorbar\":{\"outlinewidth\":0,\"ticks\":\"\"}}}],\"scatterpolar\":[{\"type\":\"scatterpolar\",\"marker\":{\"colorbar\":{\"outlinewidth\":0,\"ticks\":\"\"}}}],\"histogram\":[{\"marker\":{\"pattern\":{\"fillmode\":\"overlay\",\"size\":10,\"solidity\":0.2}},\"type\":\"histogram\"}],\"scattergl\":[{\"type\":\"scattergl\",\"marker\":{\"colorbar\":{\"outlinewidth\":0,\"ticks\":\"\"}}}],\"scatter3d\":[{\"type\":\"scatter3d\",\"line\":{\"colorbar\":{\"outlinewidth\":0,\"ticks\":\"\"}},\"marker\":{\"colorbar\":{\"outlinewidth\":0,\"ticks\":\"\"}}}],\"scattermapbox\":[{\"type\":\"scattermapbox\",\"marker\":{\"colorbar\":{\"outlinewidth\":0,\"ticks\":\"\"}}}],\"scatterternary\":[{\"type\":\"scatterternary\",\"marker\":{\"colorbar\":{\"outlinewidth\":0,\"ticks\":\"\"}}}],\"scattercarpet\":[{\"type\":\"scattercarpet\",\"marker\":{\"colorbar\":{\"outlinewidth\":0,\"ticks\":\"\"}}}],\"carpet\":[{\"aaxis\":{\"endlinecolor\":\"#2a3f5f\",\"gridcolor\":\"white\",\"linecolor\":\"white\",\"minorgridcolor\":\"white\",\"startlinecolor\":\"#2a3f5f\"},\"baxis\":{\"endlinecolor\":\"#2a3f5f\",\"gridcolor\":\"white\",\"linecolor\":\"white\",\"minorgridcolor\":\"white\",\"startlinecolor\":\"#2a3f5f\"},\"type\":\"carpet\"}],\"table\":[{\"cells\":{\"fill\":{\"color\":\"#EBF0F8\"},\"line\":{\"color\":\"white\"}},\"header\":{\"fill\":{\"color\":\"#C8D4E3\"},\"line\":{\"color\":\"white\"}},\"type\":\"table\"}],\"barpolar\":[{\"marker\":{\"line\":{\"color\":\"#E5ECF6\",\"width\":0.5},\"pattern\":{\"fillmode\":\"overlay\",\"size\":10,\"solidity\":0.2}},\"type\":\"barpolar\"}],\"pie\":[{\"automargin\":true,\"type\":\"pie\"}]},\"layout\":{\"autotypenumbers\":\"strict\",\"colorway\":[\"#636efa\",\"#EF553B\",\"#00cc96\",\"#ab63fa\",\"#FFA15A\",\"#19d3f3\",\"#FF6692\",\"#B6E880\",\"#FF97FF\",\"#FECB52\"],\"font\":{\"color\":\"#2a3f5f\"},\"hovermode\":\"closest\",\"hoverlabel\":{\"align\":\"left\"},\"paper_bgcolor\":\"white\",\"plot_bgcolor\":\"#E5ECF6\",\"polar\":{\"bgcolor\":\"#E5ECF6\",\"angularaxis\":{\"gridcolor\":\"white\",\"linecolor\":\"white\",\"ticks\":\"\"},\"radialaxis\":{\"gridcolor\":\"white\",\"linecolor\":\"white\",\"ticks\":\"\"}},\"ternary\":{\"bgcolor\":\"#E5ECF6\",\"aaxis\":{\"gridcolor\":\"white\",\"linecolor\":\"white\",\"ticks\":\"\"},\"baxis\":{\"gridcolor\":\"white\",\"linecolor\":\"white\",\"ticks\":\"\"},\"caxis\":{\"gridcolor\":\"white\",\"linecolor\":\"white\",\"ticks\":\"\"}},\"coloraxis\":{\"colorbar\":{\"outlinewidth\":0,\"ticks\":\"\"}},\"colorscale\":{\"sequential\":[[0.0,\"#0d0887\"],[0.1111111111111111,\"#46039f\"],[0.2222222222222222,\"#7201a8\"],[0.3333333333333333,\"#9c179e\"],[0.4444444444444444,\"#bd3786\"],[0.5555555555555556,\"#d8576b\"],[0.6666666666666666,\"#ed7953\"],[0.7777777777777778,\"#fb9f3a\"],[0.8888888888888888,\"#fdca26\"],[1.0,\"#f0f921\"]],\"sequentialminus\":[[0.0,\"#0d0887\"],[0.1111111111111111,\"#46039f\"],[0.2222222222222222,\"#7201a8\"],[0.3333333333333333,\"#9c179e\"],[0.4444444444444444,\"#bd3786\"],[0.5555555555555556,\"#d8576b\"],[0.6666666666666666,\"#ed7953\"],[0.7777777777777778,\"#fb9f3a\"],[0.8888888888888888,\"#fdca26\"],[1.0,\"#f0f921\"]],\"diverging\":[[0,\"#8e0152\"],[0.1,\"#c51b7d\"],[0.2,\"#de77ae\"],[0.3,\"#f1b6da\"],[0.4,\"#fde0ef\"],[0.5,\"#f7f7f7\"],[0.6,\"#e6f5d0\"],[0.7,\"#b8e186\"],[0.8,\"#7fbc41\"],[0.9,\"#4d9221\"],[1,\"#276419\"]]},\"xaxis\":{\"gridcolor\":\"white\",\"linecolor\":\"white\",\"ticks\":\"\",\"title\":{\"standoff\":15},\"zerolinecolor\":\"white\",\"automargin\":true,\"zerolinewidth\":2},\"yaxis\":{\"gridcolor\":\"white\",\"linecolor\":\"white\",\"ticks\":\"\",\"title\":{\"standoff\":15},\"zerolinecolor\":\"white\",\"automargin\":true,\"zerolinewidth\":2},\"scene\":{\"xaxis\":{\"backgroundcolor\":\"#E5ECF6\",\"gridcolor\":\"white\",\"linecolor\":\"white\",\"showbackground\":true,\"ticks\":\"\",\"zerolinecolor\":\"white\",\"gridwidth\":2},\"yaxis\":{\"backgroundcolor\":\"#E5ECF6\",\"gridcolor\":\"white\",\"linecolor\":\"white\",\"showbackground\":true,\"ticks\":\"\",\"zerolinecolor\":\"white\",\"gridwidth\":2},\"zaxis\":{\"backgroundcolor\":\"#E5ECF6\",\"gridcolor\":\"white\",\"linecolor\":\"white\",\"showbackground\":true,\"ticks\":\"\",\"zerolinecolor\":\"white\",\"gridwidth\":2}},\"shapedefaults\":{\"line\":{\"color\":\"#2a3f5f\"}},\"annotationdefaults\":{\"arrowcolor\":\"#2a3f5f\",\"arrowhead\":0,\"arrowwidth\":1},\"geo\":{\"bgcolor\":\"white\",\"landcolor\":\"#E5ECF6\",\"subunitcolor\":\"white\",\"showland\":true,\"showlakes\":true,\"lakecolor\":\"white\"},\"title\":{\"x\":0.05},\"mapbox\":{\"style\":\"light\"}}},\"polar\":{\"domain\":{\"x\":[0.0,1.0],\"y\":[0.0,1.0]},\"angularaxis\":{\"direction\":\"clockwise\",\"rotation\":90}},\"legend\":{\"title\":{\"text\":\"Continentes\"},\"tracegroupgap\":0},\"title\":{\"text\":\"Média salarial em USD por senioridade em cada continente\"}},                        {\"responsive\": true}                    ).then(function(){\n",
              "                            \n",
              "var gd = document.getElementById('cb3bbca7-4f72-48c6-92ae-39d14b495c04');\n",
              "var x = new MutationObserver(function (mutations, observer) {{\n",
              "        var display = window.getComputedStyle(gd).display;\n",
              "        if (!display || display === 'none') {{\n",
              "            console.log([gd, 'removed!']);\n",
              "            Plotly.purge(gd);\n",
              "            observer.disconnect();\n",
              "        }}\n",
              "}});\n",
              "\n",
              "// Listen for the removal of the full notebook cells\n",
              "var notebookContainer = gd.closest('#notebook-container');\n",
              "if (notebookContainer) {{\n",
              "    x.observe(notebookContainer, {childList: true});\n",
              "}}\n",
              "\n",
              "// Listen for the clearing of the current output cell\n",
              "var outputEl = gd.closest('.output');\n",
              "if (outputEl) {{\n",
              "    x.observe(outputEl, {childList: true});\n",
              "}}\n",
              "\n",
              "                        })                };                            </script>        </div>\n",
              "</body>\n",
              "</html>"
            ]
          },
          "metadata": {}
        }
      ]
    },
    {
      "cell_type": "code",
      "source": [],
      "metadata": {
        "id": "2vupeabmQXP1"
      },
      "execution_count": null,
      "outputs": []
    },
    {
      "cell_type": "code",
      "metadata": {
        "collapsed": true,
        "id": "39a9ce2b"
      },
      "source": [
        "# Filter the median salaries for Data Scientists grouped by seniority and country\n",
        "median_salary_ds_seniority_country = salario_ds.groupby(['senioridade', 'residencia'])['usd'].median().reset_index()\n",
        "\n",
        "# Display the resulting DataFrame\n",
        "display(median_salary_ds_seniority_country)"
      ],
      "execution_count": null,
      "outputs": []
    },
    {
      "cell_type": "code",
      "metadata": {
        "id": "a5c31e74"
      },
      "source": [
        "# Rename continents in the continent_map\n",
        "continent_map['North America'] = 'América do Norte'\n",
        "continent_map['South America'] = 'América do Sul'\n",
        "\n",
        "\n",
        "# Re-apply the mapping to the 'continent' column in salario_ds\n",
        "salario_ds.loc[:, 'continent'] = salario_ds['residencia'].map(continent_map)\n",
        "\n",
        "# Display the updated DataFrame with renamed continents\n",
        "display(salario_ds.head())"
      ],
      "execution_count": null,
      "outputs": []
    },
    {
      "cell_type": "code",
      "source": [],
      "metadata": {
        "id": "ViUfpcMBSfRk"
      },
      "execution_count": null,
      "outputs": []
    },
    {
      "cell_type": "markdown",
      "metadata": {
        "id": "f9492d1b"
      },
      "source": [
        "# Task\n",
        "Filter the median salaries for Data Scientists grouped by seniority and country, and visualize the top N countries for each seniority level."
      ]
    },
    {
      "cell_type": "markdown",
      "metadata": {
        "id": "021b2b37"
      },
      "source": [
        "## Filter and prepare data\n",
        "\n",
        "### Subtask:\n",
        "For each seniority level, filter the median salaries by country data and select the top N countries.\n"
      ]
    },
    {
      "cell_type": "markdown",
      "metadata": {
        "id": "d6fd304f"
      },
      "source": [
        "**Reasoning**:\n",
        "Filter the median salaries by country for each seniority level and select the top N countries.\n",
        "\n"
      ]
    },
    {
      "cell_type": "code",
      "metadata": {
        "id": "f8a0e36e"
      },
      "source": [
        "N = 20\n",
        "top_n_salaries_by_seniority = {}\n",
        "for seniority in median_salary_ds_seniority_country['senioridade'].unique():\n",
        "    filtered_df = median_salary_ds_seniority_country[median_salary_ds_seniority_country['senioridade'] == seniority]\n",
        "    top_n_countries = filtered_df.sort_values(by='usd', ascending=False).head(N)\n",
        "    top_n_salaries_by_seniority[seniority] = top_n_countries\n",
        "\n",
        "display(top_n_salaries_by_seniority)"
      ],
      "execution_count": null,
      "outputs": []
    },
    {
      "cell_type": "code",
      "metadata": {
        "id": "e137336a"
      },
      "source": [
        "# Combine the data from the top N countries for each seniority level into a single DataFrame\n",
        "combined_top_n_salaries = pd.concat(top_n_salaries_by_seniority.values())\n",
        "\n",
        "# Create a faceted bar plot\n",
        "g = sns.catplot(\n",
        "    data=combined_top_n_salaries,\n",
        "    x='residencia',\n",
        "    y='usd',\n",
        "    col='senioridade',\n",
        "    col_wrap=2,  # Display plots in two columns\n",
        "    kind='bar',\n",
        "    palette='viridis',\n",
        "    hue='residencia',  # Assign 'residencia' to hue\n",
        "    legend=False,  # Set legend to False\n",
        "    sharey=False, # Allow y-axis to vary for each plot\n",
        "    height=4,\n",
        "    aspect=1.2\n",
        ")\n",
        "\n",
        "# Set titles and labels\n",
        "g.fig.suptitle(f'Top {N} Countries by Median Salary for Data Scientists by Seniority', y=1.02) # Add a title to the entire figure\n",
        "g.set_titles(\"Seniority: {col_name}\")\n",
        "g.set_axis_labels(\"Country\", \"Median Salary (USD)\")\n",
        "g.set_xticklabels(rotation=45, ha='right') # Rotate x-axis labels\n",
        "\n",
        "plt.tight_layout()\n",
        "plt.show()"
      ],
      "execution_count": null,
      "outputs": []
    },
    {
      "cell_type": "markdown",
      "metadata": {
        "id": "7e3cb380"
      },
      "source": [
        "## Visualize data\n",
        "\n",
        "### Subtask:\n",
        "Create a bar plot for each seniority level showing the median salary for the top N countries.\n"
      ]
    },
    {
      "cell_type": "markdown",
      "metadata": {
        "id": "54b29ad3"
      },
      "source": [
        "**Reasoning**:\n",
        "Iterate through the dictionary of top N countries by seniority and create a bar plot for each seniority level.\n",
        "\n"
      ]
    },
    {
      "cell_type": "code",
      "metadata": {
        "id": "852a0896"
      },
      "source": [
        "for seniority, data in top_n_salaries_by_seniority.items():\n",
        "    plt.figure(figsize=(10, 5))\n",
        "    sns.barplot(data=data, x='residencia', y='usd', palette='viridis', hue='residencia', legend=False)\n",
        "    plt.title(f'Top {N} Countries by Median Salary for {seniority} Data Scientists')\n",
        "    plt.xlabel('Country')\n",
        "    plt.ylabel('Median Salary (USD)')\n",
        "    plt.xticks(rotation=45, ha='right')\n",
        "    plt.tight_layout()\n",
        "    plt.show()"
      ],
      "execution_count": null,
      "outputs": []
    },
    {
      "cell_type": "markdown",
      "metadata": {
        "id": "fb31fe9f"
      },
      "source": [
        "## Refine visualizations\n",
        "\n",
        "### Subtask:\n",
        "Adjust the plot parameters (e.g., figure size, labels, titles) for better readability and presentation.\n"
      ]
    },
    {
      "cell_type": "markdown",
      "metadata": {
        "id": "aabba8c7"
      },
      "source": [
        "## Summary:\n",
        "\n",
        "### Data Analysis Key Findings\n",
        "\n",
        "*   The analysis successfully identified the top 10 countries with the highest median Data Scientist salaries for each seniority level: Executive, Junior, Mid-Level, and Senior.\n",
        "*   Bar plots were generated for each seniority level, visually representing the median salaries in the top 10 countries.\n",
        "\n",
        "### Insights or Next Steps\n",
        "\n",
        "*   Further analysis could involve comparing the salary distributions across different seniority levels within a specific country.\n",
        "*   Investigate factors that might contribute to the high median salaries in the identified top countries for each seniority level.\n"
      ]
    }
  ]
}